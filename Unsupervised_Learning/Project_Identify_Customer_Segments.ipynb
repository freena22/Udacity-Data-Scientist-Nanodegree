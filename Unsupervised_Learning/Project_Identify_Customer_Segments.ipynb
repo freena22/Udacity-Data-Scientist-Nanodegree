{
 "cells": [
  {
   "cell_type": "markdown",
   "metadata": {},
   "source": [
    "# Project: Identify Customer Segments\n",
    "\n",
    "In this project, you will apply unsupervised learning techniques to identify segments of the population that form the core customer base for a mail-order sales company in Germany. These segments can then be used to direct marketing campaigns towards audiences that will have the highest expected rate of returns. The data that you will use has been provided by our partners at Bertelsmann Arvato Analytics, and represents a real-life data science task.\n",
    "\n",
    "This notebook will help you complete this task by providing a framework within which you will perform your analysis steps. In each step of the project, you will see some text describing the subtask that you will perform, followed by one or more code cells for you to complete your work. **Feel free to add additional code and markdown cells as you go along so that you can explore everything in precise chunks.** The code cells provided in the base template will outline only the major tasks, and will usually not be enough to cover all of the minor tasks that comprise it.\n",
    "\n",
    "It should be noted that while there will be precise guidelines on how you should handle certain tasks in the project, there will also be places where an exact specification is not provided. **There will be times in the project where you will need to make and justify your own decisions on how to treat the data.** These are places where there may not be only one way to handle the data. In real-life tasks, there may be many valid ways to approach an analysis task. One of the most important things you can do is clearly document your approach so that other scientists can understand the decisions you've made.\n",
    "\n",
    "At the end of most sections, there will be a Markdown cell labeled **Discussion**. In these cells, you will report your findings for the completed section, as well as document the decisions that you made in your approach to each subtask. **Your project will be evaluated not just on the code used to complete the tasks outlined, but also your communication about your observations and conclusions at each stage.**"
   ]
  },
  {
   "cell_type": "code",
   "execution_count": 3,
   "metadata": {},
   "outputs": [],
   "source": [
    "# import libraries here; add more as necessary\n",
    "import numpy as np\n",
    "import pandas as pd\n",
    "import matplotlib.pyplot as plt\n",
    "import seaborn as sns\n",
    "import time\n",
    "plt.style.use('ggplot')\n",
    "from sklearn.preprocessing import Imputer \n",
    "from sklearn.preprocessing import StandardScaler\n",
    "from sklearn.decomposition import PCA\n",
    "from sklearn.cluster import KMeans\n",
    "\n",
    "# magic word for producing visualizations in notebook\n",
    "%matplotlib inline"
   ]
  },
  {
   "cell_type": "markdown",
   "metadata": {},
   "source": [
    "### Step 0: Load the Data\n",
    "\n",
    "There are four files associated with this project (not including this one):\n",
    "\n",
    "- `Udacity_AZDIAS_Subset.csv`: Demographics data for the general population of Germany; 891211 persons (rows) x 85 features (columns).\n",
    "- `Udacity_CUSTOMERS_Subset.csv`: Demographics data for customers of a mail-order company; 191652 persons (rows) x 85 features (columns).\n",
    "- `Data_Dictionary.md`: Detailed information file about the features in the provided datasets.\n",
    "- `AZDIAS_Feature_Summary.csv`: Summary of feature attributes for demographics data; 85 features (rows) x 4 columns\n",
    "\n",
    "Each row of the demographics files represents a single person, but also includes information outside of individuals, including information about their household, building, and neighborhood. You will use this information to cluster the general population into groups with similar demographic properties. Then, you will see how the people in the customers dataset fit into those created clusters. The hope here is that certain clusters are over-represented in the customers data, as compared to the general population; those over-represented clusters will be assumed to be part of the core userbase. This information can then be used for further applications, such as targeting for a marketing campaign.\n",
    "\n",
    "To start off with, load in the demographics data for the general population into a pandas DataFrame, and do the same for the feature attributes summary. Note for all of the `.csv` data files in this project: they're semicolon (`;`) delimited, so you'll need an additional argument in your [`read_csv()`](https://pandas.pydata.org/pandas-docs/stable/generated/pandas.read_csv.html) call to read in the data properly. Also, considering the size of the main dataset, it may take some time for it to load completely.\n",
    "\n",
    "Once the dataset is loaded, it's recommended that you take a little bit of time just browsing the general structure of the dataset and feature summary file. You'll be getting deep into the innards of the cleaning in the first major step of the project, so gaining some general familiarity can help you get your bearings."
   ]
  },
  {
   "cell_type": "code",
   "execution_count": 4,
   "metadata": {},
   "outputs": [],
   "source": [
    "# Load in the general demographics data.\n",
    "azdias = pd.read_csv('Udacity_AZDIAS_Subset.csv', delimiter=';')\n",
    "\n",
    "# Load in the feature summary file.\n",
    "feat_info = pd.read_csv('AZDIAS_Feature_Summary.csv', delimiter=';')"
   ]
  },
  {
   "cell_type": "code",
   "execution_count": 3,
   "metadata": {},
   "outputs": [
    {
     "name": "stdout",
     "output_type": "stream",
     "text": [
      "(891221, 85)\n",
      "(85, 4)\n"
     ]
    }
   ],
   "source": [
    "# Check the structure of the data after it's loaded (e.g. print the number of\n",
    "# rows and columns, print the first few rows).\n",
    "print(azdias.shape)\n",
    "print(feat_info.shape)"
   ]
  },
  {
   "cell_type": "code",
   "execution_count": 4,
   "metadata": {},
   "outputs": [
    {
     "data": {
      "text/html": [
       "<div>\n",
       "<style>\n",
       "    .dataframe thead tr:only-child th {\n",
       "        text-align: right;\n",
       "    }\n",
       "\n",
       "    .dataframe thead th {\n",
       "        text-align: left;\n",
       "    }\n",
       "\n",
       "    .dataframe tbody tr th {\n",
       "        vertical-align: top;\n",
       "    }\n",
       "</style>\n",
       "<table border=\"1\" class=\"dataframe\">\n",
       "  <thead>\n",
       "    <tr style=\"text-align: right;\">\n",
       "      <th></th>\n",
       "      <th>AGER_TYP</th>\n",
       "      <th>ALTERSKATEGORIE_GROB</th>\n",
       "      <th>ANREDE_KZ</th>\n",
       "      <th>CJT_GESAMTTYP</th>\n",
       "      <th>FINANZ_MINIMALIST</th>\n",
       "      <th>FINANZ_SPARER</th>\n",
       "      <th>FINANZ_VORSORGER</th>\n",
       "      <th>FINANZ_ANLEGER</th>\n",
       "      <th>FINANZ_UNAUFFAELLIGER</th>\n",
       "      <th>FINANZ_HAUSBAUER</th>\n",
       "      <th>...</th>\n",
       "      <th>PLZ8_ANTG1</th>\n",
       "      <th>PLZ8_ANTG2</th>\n",
       "      <th>PLZ8_ANTG3</th>\n",
       "      <th>PLZ8_ANTG4</th>\n",
       "      <th>PLZ8_BAUMAX</th>\n",
       "      <th>PLZ8_HHZ</th>\n",
       "      <th>PLZ8_GBZ</th>\n",
       "      <th>ARBEIT</th>\n",
       "      <th>ORTSGR_KLS9</th>\n",
       "      <th>RELAT_AB</th>\n",
       "    </tr>\n",
       "  </thead>\n",
       "  <tbody>\n",
       "    <tr>\n",
       "      <th>0</th>\n",
       "      <td>-1</td>\n",
       "      <td>2</td>\n",
       "      <td>1</td>\n",
       "      <td>2.0</td>\n",
       "      <td>3</td>\n",
       "      <td>4</td>\n",
       "      <td>3</td>\n",
       "      <td>5</td>\n",
       "      <td>5</td>\n",
       "      <td>3</td>\n",
       "      <td>...</td>\n",
       "      <td>NaN</td>\n",
       "      <td>NaN</td>\n",
       "      <td>NaN</td>\n",
       "      <td>NaN</td>\n",
       "      <td>NaN</td>\n",
       "      <td>NaN</td>\n",
       "      <td>NaN</td>\n",
       "      <td>NaN</td>\n",
       "      <td>NaN</td>\n",
       "      <td>NaN</td>\n",
       "    </tr>\n",
       "    <tr>\n",
       "      <th>1</th>\n",
       "      <td>-1</td>\n",
       "      <td>1</td>\n",
       "      <td>2</td>\n",
       "      <td>5.0</td>\n",
       "      <td>1</td>\n",
       "      <td>5</td>\n",
       "      <td>2</td>\n",
       "      <td>5</td>\n",
       "      <td>4</td>\n",
       "      <td>5</td>\n",
       "      <td>...</td>\n",
       "      <td>2.0</td>\n",
       "      <td>3.0</td>\n",
       "      <td>2.0</td>\n",
       "      <td>1.0</td>\n",
       "      <td>1.0</td>\n",
       "      <td>5.0</td>\n",
       "      <td>4.0</td>\n",
       "      <td>3.0</td>\n",
       "      <td>5.0</td>\n",
       "      <td>4.0</td>\n",
       "    </tr>\n",
       "    <tr>\n",
       "      <th>2</th>\n",
       "      <td>-1</td>\n",
       "      <td>3</td>\n",
       "      <td>2</td>\n",
       "      <td>3.0</td>\n",
       "      <td>1</td>\n",
       "      <td>4</td>\n",
       "      <td>1</td>\n",
       "      <td>2</td>\n",
       "      <td>3</td>\n",
       "      <td>5</td>\n",
       "      <td>...</td>\n",
       "      <td>3.0</td>\n",
       "      <td>3.0</td>\n",
       "      <td>1.0</td>\n",
       "      <td>0.0</td>\n",
       "      <td>1.0</td>\n",
       "      <td>4.0</td>\n",
       "      <td>4.0</td>\n",
       "      <td>3.0</td>\n",
       "      <td>5.0</td>\n",
       "      <td>2.0</td>\n",
       "    </tr>\n",
       "    <tr>\n",
       "      <th>3</th>\n",
       "      <td>2</td>\n",
       "      <td>4</td>\n",
       "      <td>2</td>\n",
       "      <td>2.0</td>\n",
       "      <td>4</td>\n",
       "      <td>2</td>\n",
       "      <td>5</td>\n",
       "      <td>2</td>\n",
       "      <td>1</td>\n",
       "      <td>2</td>\n",
       "      <td>...</td>\n",
       "      <td>2.0</td>\n",
       "      <td>2.0</td>\n",
       "      <td>2.0</td>\n",
       "      <td>0.0</td>\n",
       "      <td>1.0</td>\n",
       "      <td>3.0</td>\n",
       "      <td>4.0</td>\n",
       "      <td>2.0</td>\n",
       "      <td>3.0</td>\n",
       "      <td>3.0</td>\n",
       "    </tr>\n",
       "    <tr>\n",
       "      <th>4</th>\n",
       "      <td>-1</td>\n",
       "      <td>3</td>\n",
       "      <td>1</td>\n",
       "      <td>5.0</td>\n",
       "      <td>4</td>\n",
       "      <td>3</td>\n",
       "      <td>4</td>\n",
       "      <td>1</td>\n",
       "      <td>3</td>\n",
       "      <td>2</td>\n",
       "      <td>...</td>\n",
       "      <td>2.0</td>\n",
       "      <td>4.0</td>\n",
       "      <td>2.0</td>\n",
       "      <td>1.0</td>\n",
       "      <td>2.0</td>\n",
       "      <td>3.0</td>\n",
       "      <td>3.0</td>\n",
       "      <td>4.0</td>\n",
       "      <td>6.0</td>\n",
       "      <td>5.0</td>\n",
       "    </tr>\n",
       "  </tbody>\n",
       "</table>\n",
       "<p>5 rows × 85 columns</p>\n",
       "</div>"
      ],
      "text/plain": [
       "   AGER_TYP  ALTERSKATEGORIE_GROB  ANREDE_KZ  CJT_GESAMTTYP  \\\n",
       "0        -1                     2          1            2.0   \n",
       "1        -1                     1          2            5.0   \n",
       "2        -1                     3          2            3.0   \n",
       "3         2                     4          2            2.0   \n",
       "4        -1                     3          1            5.0   \n",
       "\n",
       "   FINANZ_MINIMALIST  FINANZ_SPARER  FINANZ_VORSORGER  FINANZ_ANLEGER  \\\n",
       "0                  3              4                 3               5   \n",
       "1                  1              5                 2               5   \n",
       "2                  1              4                 1               2   \n",
       "3                  4              2                 5               2   \n",
       "4                  4              3                 4               1   \n",
       "\n",
       "   FINANZ_UNAUFFAELLIGER  FINANZ_HAUSBAUER    ...     PLZ8_ANTG1  PLZ8_ANTG2  \\\n",
       "0                      5                 3    ...            NaN         NaN   \n",
       "1                      4                 5    ...            2.0         3.0   \n",
       "2                      3                 5    ...            3.0         3.0   \n",
       "3                      1                 2    ...            2.0         2.0   \n",
       "4                      3                 2    ...            2.0         4.0   \n",
       "\n",
       "   PLZ8_ANTG3  PLZ8_ANTG4  PLZ8_BAUMAX  PLZ8_HHZ  PLZ8_GBZ  ARBEIT  \\\n",
       "0         NaN         NaN          NaN       NaN       NaN     NaN   \n",
       "1         2.0         1.0          1.0       5.0       4.0     3.0   \n",
       "2         1.0         0.0          1.0       4.0       4.0     3.0   \n",
       "3         2.0         0.0          1.0       3.0       4.0     2.0   \n",
       "4         2.0         1.0          2.0       3.0       3.0     4.0   \n",
       "\n",
       "   ORTSGR_KLS9  RELAT_AB  \n",
       "0          NaN       NaN  \n",
       "1          5.0       4.0  \n",
       "2          5.0       2.0  \n",
       "3          3.0       3.0  \n",
       "4          6.0       5.0  \n",
       "\n",
       "[5 rows x 85 columns]"
      ]
     },
     "execution_count": 4,
     "metadata": {},
     "output_type": "execute_result"
    }
   ],
   "source": [
    "azdias.head()"
   ]
  },
  {
   "cell_type": "code",
   "execution_count": 5,
   "metadata": {},
   "outputs": [
    {
     "data": {
      "text/html": [
       "<div>\n",
       "<style>\n",
       "    .dataframe thead tr:only-child th {\n",
       "        text-align: right;\n",
       "    }\n",
       "\n",
       "    .dataframe thead th {\n",
       "        text-align: left;\n",
       "    }\n",
       "\n",
       "    .dataframe tbody tr th {\n",
       "        vertical-align: top;\n",
       "    }\n",
       "</style>\n",
       "<table border=\"1\" class=\"dataframe\">\n",
       "  <thead>\n",
       "    <tr style=\"text-align: right;\">\n",
       "      <th></th>\n",
       "      <th>attribute</th>\n",
       "      <th>information_level</th>\n",
       "      <th>type</th>\n",
       "      <th>missing_or_unknown</th>\n",
       "    </tr>\n",
       "  </thead>\n",
       "  <tbody>\n",
       "    <tr>\n",
       "      <th>0</th>\n",
       "      <td>AGER_TYP</td>\n",
       "      <td>person</td>\n",
       "      <td>categorical</td>\n",
       "      <td>[-1,0]</td>\n",
       "    </tr>\n",
       "    <tr>\n",
       "      <th>1</th>\n",
       "      <td>ALTERSKATEGORIE_GROB</td>\n",
       "      <td>person</td>\n",
       "      <td>ordinal</td>\n",
       "      <td>[-1,0,9]</td>\n",
       "    </tr>\n",
       "    <tr>\n",
       "      <th>2</th>\n",
       "      <td>ANREDE_KZ</td>\n",
       "      <td>person</td>\n",
       "      <td>categorical</td>\n",
       "      <td>[-1,0]</td>\n",
       "    </tr>\n",
       "    <tr>\n",
       "      <th>3</th>\n",
       "      <td>CJT_GESAMTTYP</td>\n",
       "      <td>person</td>\n",
       "      <td>categorical</td>\n",
       "      <td>[0]</td>\n",
       "    </tr>\n",
       "    <tr>\n",
       "      <th>4</th>\n",
       "      <td>FINANZ_MINIMALIST</td>\n",
       "      <td>person</td>\n",
       "      <td>ordinal</td>\n",
       "      <td>[-1]</td>\n",
       "    </tr>\n",
       "  </tbody>\n",
       "</table>\n",
       "</div>"
      ],
      "text/plain": [
       "              attribute information_level         type missing_or_unknown\n",
       "0              AGER_TYP            person  categorical             [-1,0]\n",
       "1  ALTERSKATEGORIE_GROB            person      ordinal           [-1,0,9]\n",
       "2             ANREDE_KZ            person  categorical             [-1,0]\n",
       "3         CJT_GESAMTTYP            person  categorical                [0]\n",
       "4     FINANZ_MINIMALIST            person      ordinal               [-1]"
      ]
     },
     "execution_count": 5,
     "metadata": {},
     "output_type": "execute_result"
    }
   ],
   "source": [
    "feat_info.head()"
   ]
  },
  {
   "cell_type": "markdown",
   "metadata": {},
   "source": [
    "> **Tip**: Add additional cells to keep everything in reasonably-sized chunks! Keyboard shortcut `esc --> a` (press escape to enter command mode, then press the 'A' key) adds a new cell before the active cell, and `esc --> b` adds a new cell after the active cell. If you need to convert an active cell to a markdown cell, use `esc --> m` and to convert to a code cell, use `esc --> y`. \n",
    "\n",
    "## Step 1: Preprocessing\n",
    "\n",
    "### Step 1.1: Assess Missing Data\n",
    "\n",
    "The feature summary file contains a summary of properties for each demographics data column. You will use this file to help you make cleaning decisions during this stage of the project. First of all, you should assess the demographics data in terms of missing data. Pay attention to the following points as you perform your analysis, and take notes on what you observe. Make sure that you fill in the **Discussion** cell with your findings and decisions at the end of each step that has one!\n",
    "\n",
    "#### Step 1.1.1: Convert Missing Value Codes to NaNs\n",
    "The fourth column of the feature attributes summary (loaded in above as `feat_info`) documents the codes from the data dictionary that indicate missing or unknown data. While the file encodes this as a list (e.g. `[-1,0]`), this will get read in as a string object. You'll need to do a little bit of parsing to make use of it to identify and clean the data. Convert data that matches a 'missing' or 'unknown' value code into a numpy NaN value. You might want to see how much data takes on a 'missing' or 'unknown' code, and how much data is naturally missing, as a point of interest.\n"
   ]
  },
  {
   "cell_type": "code",
   "execution_count": 6,
   "metadata": {},
   "outputs": [
    {
     "data": {
      "text/plain": [
       "4896838"
      ]
     },
     "execution_count": 6,
     "metadata": {},
     "output_type": "execute_result"
    }
   ],
   "source": [
    "# Identify missing or unknown data values and convert them to NaNs.\n",
    "pre_missing = azdias.isnull().sum().sum()\n",
    "pre_missing "
   ]
  },
  {
   "cell_type": "code",
   "execution_count": 7,
   "metadata": {},
   "outputs": [],
   "source": [
    "# parse the encoded string\n",
    "for i in range(len(feat_info)):\n",
    "    missing_or_unknown = feat_info.iloc[i]['missing_or_unknown']\n",
    "    missing_or_unknown = missing_or_unknown.strip('[').strip(']').split(',')\n",
    "    missing_or_unknown = [int(value) if (value!='X' and value!='XX' and value!='') \n",
    "                          else value for value in missing_or_unknown]\n",
    "    # mapping the values and replace with Nan\n",
    "    if missing_or_unknown != ['']:\n",
    "        azdias = azdias.replace({feat_info.iloc[i]['attribute']: missing_or_unknown}, np.nan)\n",
    "    # print(missing_or_unknown) to test"
   ]
  },
  {
   "cell_type": "code",
   "execution_count": 8,
   "metadata": {},
   "outputs": [
    {
     "data": {
      "text/html": [
       "<div>\n",
       "<style>\n",
       "    .dataframe thead tr:only-child th {\n",
       "        text-align: right;\n",
       "    }\n",
       "\n",
       "    .dataframe thead th {\n",
       "        text-align: left;\n",
       "    }\n",
       "\n",
       "    .dataframe tbody tr th {\n",
       "        vertical-align: top;\n",
       "    }\n",
       "</style>\n",
       "<table border=\"1\" class=\"dataframe\">\n",
       "  <thead>\n",
       "    <tr style=\"text-align: right;\">\n",
       "      <th></th>\n",
       "      <th>AGER_TYP</th>\n",
       "      <th>ALTERSKATEGORIE_GROB</th>\n",
       "      <th>ANREDE_KZ</th>\n",
       "      <th>CJT_GESAMTTYP</th>\n",
       "      <th>FINANZ_MINIMALIST</th>\n",
       "      <th>FINANZ_SPARER</th>\n",
       "      <th>FINANZ_VORSORGER</th>\n",
       "      <th>FINANZ_ANLEGER</th>\n",
       "      <th>FINANZ_UNAUFFAELLIGER</th>\n",
       "      <th>FINANZ_HAUSBAUER</th>\n",
       "      <th>...</th>\n",
       "      <th>PLZ8_ANTG1</th>\n",
       "      <th>PLZ8_ANTG2</th>\n",
       "      <th>PLZ8_ANTG3</th>\n",
       "      <th>PLZ8_ANTG4</th>\n",
       "      <th>PLZ8_BAUMAX</th>\n",
       "      <th>PLZ8_HHZ</th>\n",
       "      <th>PLZ8_GBZ</th>\n",
       "      <th>ARBEIT</th>\n",
       "      <th>ORTSGR_KLS9</th>\n",
       "      <th>RELAT_AB</th>\n",
       "    </tr>\n",
       "  </thead>\n",
       "  <tbody>\n",
       "    <tr>\n",
       "      <th>0</th>\n",
       "      <td>NaN</td>\n",
       "      <td>2.0</td>\n",
       "      <td>1</td>\n",
       "      <td>2.0</td>\n",
       "      <td>3</td>\n",
       "      <td>4</td>\n",
       "      <td>3</td>\n",
       "      <td>5</td>\n",
       "      <td>5</td>\n",
       "      <td>3</td>\n",
       "      <td>...</td>\n",
       "      <td>NaN</td>\n",
       "      <td>NaN</td>\n",
       "      <td>NaN</td>\n",
       "      <td>NaN</td>\n",
       "      <td>NaN</td>\n",
       "      <td>NaN</td>\n",
       "      <td>NaN</td>\n",
       "      <td>NaN</td>\n",
       "      <td>NaN</td>\n",
       "      <td>NaN</td>\n",
       "    </tr>\n",
       "    <tr>\n",
       "      <th>1</th>\n",
       "      <td>NaN</td>\n",
       "      <td>1.0</td>\n",
       "      <td>2</td>\n",
       "      <td>5.0</td>\n",
       "      <td>1</td>\n",
       "      <td>5</td>\n",
       "      <td>2</td>\n",
       "      <td>5</td>\n",
       "      <td>4</td>\n",
       "      <td>5</td>\n",
       "      <td>...</td>\n",
       "      <td>2.0</td>\n",
       "      <td>3.0</td>\n",
       "      <td>2.0</td>\n",
       "      <td>1.0</td>\n",
       "      <td>1.0</td>\n",
       "      <td>5.0</td>\n",
       "      <td>4.0</td>\n",
       "      <td>3.0</td>\n",
       "      <td>5.0</td>\n",
       "      <td>4.0</td>\n",
       "    </tr>\n",
       "    <tr>\n",
       "      <th>2</th>\n",
       "      <td>NaN</td>\n",
       "      <td>3.0</td>\n",
       "      <td>2</td>\n",
       "      <td>3.0</td>\n",
       "      <td>1</td>\n",
       "      <td>4</td>\n",
       "      <td>1</td>\n",
       "      <td>2</td>\n",
       "      <td>3</td>\n",
       "      <td>5</td>\n",
       "      <td>...</td>\n",
       "      <td>3.0</td>\n",
       "      <td>3.0</td>\n",
       "      <td>1.0</td>\n",
       "      <td>0.0</td>\n",
       "      <td>1.0</td>\n",
       "      <td>4.0</td>\n",
       "      <td>4.0</td>\n",
       "      <td>3.0</td>\n",
       "      <td>5.0</td>\n",
       "      <td>2.0</td>\n",
       "    </tr>\n",
       "    <tr>\n",
       "      <th>3</th>\n",
       "      <td>2.0</td>\n",
       "      <td>4.0</td>\n",
       "      <td>2</td>\n",
       "      <td>2.0</td>\n",
       "      <td>4</td>\n",
       "      <td>2</td>\n",
       "      <td>5</td>\n",
       "      <td>2</td>\n",
       "      <td>1</td>\n",
       "      <td>2</td>\n",
       "      <td>...</td>\n",
       "      <td>2.0</td>\n",
       "      <td>2.0</td>\n",
       "      <td>2.0</td>\n",
       "      <td>0.0</td>\n",
       "      <td>1.0</td>\n",
       "      <td>3.0</td>\n",
       "      <td>4.0</td>\n",
       "      <td>2.0</td>\n",
       "      <td>3.0</td>\n",
       "      <td>3.0</td>\n",
       "    </tr>\n",
       "    <tr>\n",
       "      <th>4</th>\n",
       "      <td>NaN</td>\n",
       "      <td>3.0</td>\n",
       "      <td>1</td>\n",
       "      <td>5.0</td>\n",
       "      <td>4</td>\n",
       "      <td>3</td>\n",
       "      <td>4</td>\n",
       "      <td>1</td>\n",
       "      <td>3</td>\n",
       "      <td>2</td>\n",
       "      <td>...</td>\n",
       "      <td>2.0</td>\n",
       "      <td>4.0</td>\n",
       "      <td>2.0</td>\n",
       "      <td>1.0</td>\n",
       "      <td>2.0</td>\n",
       "      <td>3.0</td>\n",
       "      <td>3.0</td>\n",
       "      <td>4.0</td>\n",
       "      <td>6.0</td>\n",
       "      <td>5.0</td>\n",
       "    </tr>\n",
       "  </tbody>\n",
       "</table>\n",
       "<p>5 rows × 85 columns</p>\n",
       "</div>"
      ],
      "text/plain": [
       "   AGER_TYP  ALTERSKATEGORIE_GROB  ANREDE_KZ  CJT_GESAMTTYP  \\\n",
       "0       NaN                   2.0          1            2.0   \n",
       "1       NaN                   1.0          2            5.0   \n",
       "2       NaN                   3.0          2            3.0   \n",
       "3       2.0                   4.0          2            2.0   \n",
       "4       NaN                   3.0          1            5.0   \n",
       "\n",
       "   FINANZ_MINIMALIST  FINANZ_SPARER  FINANZ_VORSORGER  FINANZ_ANLEGER  \\\n",
       "0                  3              4                 3               5   \n",
       "1                  1              5                 2               5   \n",
       "2                  1              4                 1               2   \n",
       "3                  4              2                 5               2   \n",
       "4                  4              3                 4               1   \n",
       "\n",
       "   FINANZ_UNAUFFAELLIGER  FINANZ_HAUSBAUER    ...     PLZ8_ANTG1  PLZ8_ANTG2  \\\n",
       "0                      5                 3    ...            NaN         NaN   \n",
       "1                      4                 5    ...            2.0         3.0   \n",
       "2                      3                 5    ...            3.0         3.0   \n",
       "3                      1                 2    ...            2.0         2.0   \n",
       "4                      3                 2    ...            2.0         4.0   \n",
       "\n",
       "   PLZ8_ANTG3  PLZ8_ANTG4  PLZ8_BAUMAX  PLZ8_HHZ  PLZ8_GBZ  ARBEIT  \\\n",
       "0         NaN         NaN          NaN       NaN       NaN     NaN   \n",
       "1         2.0         1.0          1.0       5.0       4.0     3.0   \n",
       "2         1.0         0.0          1.0       4.0       4.0     3.0   \n",
       "3         2.0         0.0          1.0       3.0       4.0     2.0   \n",
       "4         2.0         1.0          2.0       3.0       3.0     4.0   \n",
       "\n",
       "   ORTSGR_KLS9  RELAT_AB  \n",
       "0          NaN       NaN  \n",
       "1          5.0       4.0  \n",
       "2          5.0       2.0  \n",
       "3          3.0       3.0  \n",
       "4          6.0       5.0  \n",
       "\n",
       "[5 rows x 85 columns]"
      ]
     },
     "execution_count": 8,
     "metadata": {},
     "output_type": "execute_result"
    }
   ],
   "source": [
    "azdias.head()"
   ]
  },
  {
   "cell_type": "code",
   "execution_count": 9,
   "metadata": {},
   "outputs": [
    {
     "name": "stdout",
     "output_type": "stream",
     "text": [
      "Total Missing Values Before Matching:  4896838\n",
      "Total Missing Values After Matching:  8373929\n"
     ]
    }
   ],
   "source": [
    "after_missing = azdias.isnull().sum().sum()\n",
    "print('Total Missing Values Before Matching: ', pre_missing)\n",
    "print('Total Missing Values After Matching: ', after_missing)"
   ]
  },
  {
   "cell_type": "markdown",
   "metadata": {},
   "source": [
    "#### Step 1.1.2: Assess Missing Data in Each Column\n",
    "\n",
    "How much missing data is present in each column? There are a few columns that are outliers in terms of the proportion of values that are missing. You will want to use matplotlib's [`hist()`](https://matplotlib.org/api/_as_gen/matplotlib.pyplot.hist.html) function to visualize the distribution of missing value counts to find these columns. Identify and document these columns. While some of these columns might have justifications for keeping or re-encoding the data, for this project you should just remove them from the dataframe. (Feel free to make remarks about these outlier columns in the discussion, however!)\n",
    "\n",
    "For the remaining features, are there any patterns in which columns have, or share, missing data?"
   ]
  },
  {
   "cell_type": "code",
   "execution_count": 10,
   "metadata": {},
   "outputs": [
    {
     "data": {
      "text/html": [
       "<div>\n",
       "<style>\n",
       "    .dataframe thead tr:only-child th {\n",
       "        text-align: right;\n",
       "    }\n",
       "\n",
       "    .dataframe thead th {\n",
       "        text-align: left;\n",
       "    }\n",
       "\n",
       "    .dataframe tbody tr th {\n",
       "        vertical-align: top;\n",
       "    }\n",
       "</style>\n",
       "<table border=\"1\" class=\"dataframe\">\n",
       "  <thead>\n",
       "    <tr style=\"text-align: right;\">\n",
       "      <th></th>\n",
       "      <th>missing_count</th>\n",
       "      <th>Percent</th>\n",
       "    </tr>\n",
       "  </thead>\n",
       "  <tbody>\n",
       "    <tr>\n",
       "      <th>TITEL_KZ</th>\n",
       "      <td>889061</td>\n",
       "      <td>0.997576</td>\n",
       "    </tr>\n",
       "    <tr>\n",
       "      <th>AGER_TYP</th>\n",
       "      <td>685843</td>\n",
       "      <td>0.769554</td>\n",
       "    </tr>\n",
       "    <tr>\n",
       "      <th>KK_KUNDENTYP</th>\n",
       "      <td>584612</td>\n",
       "      <td>0.655967</td>\n",
       "    </tr>\n",
       "    <tr>\n",
       "      <th>KBA05_BAUMAX</th>\n",
       "      <td>476524</td>\n",
       "      <td>0.534687</td>\n",
       "    </tr>\n",
       "    <tr>\n",
       "      <th>GEBURTSJAHR</th>\n",
       "      <td>392318</td>\n",
       "      <td>0.440203</td>\n",
       "    </tr>\n",
       "    <tr>\n",
       "      <th>ALTER_HH</th>\n",
       "      <td>310267</td>\n",
       "      <td>0.348137</td>\n",
       "    </tr>\n",
       "    <tr>\n",
       "      <th>REGIOTYP</th>\n",
       "      <td>158064</td>\n",
       "      <td>0.177357</td>\n",
       "    </tr>\n",
       "    <tr>\n",
       "      <th>KKK</th>\n",
       "      <td>158064</td>\n",
       "      <td>0.177357</td>\n",
       "    </tr>\n",
       "    <tr>\n",
       "      <th>W_KEIT_KIND_HH</th>\n",
       "      <td>147988</td>\n",
       "      <td>0.166051</td>\n",
       "    </tr>\n",
       "    <tr>\n",
       "      <th>KBA05_ANTG3</th>\n",
       "      <td>133324</td>\n",
       "      <td>0.149597</td>\n",
       "    </tr>\n",
       "    <tr>\n",
       "      <th>KBA05_ANTG2</th>\n",
       "      <td>133324</td>\n",
       "      <td>0.149597</td>\n",
       "    </tr>\n",
       "    <tr>\n",
       "      <th>KBA05_ANTG1</th>\n",
       "      <td>133324</td>\n",
       "      <td>0.149597</td>\n",
       "    </tr>\n",
       "    <tr>\n",
       "      <th>KBA05_GBZ</th>\n",
       "      <td>133324</td>\n",
       "      <td>0.149597</td>\n",
       "    </tr>\n",
       "    <tr>\n",
       "      <th>KBA05_ANTG4</th>\n",
       "      <td>133324</td>\n",
       "      <td>0.149597</td>\n",
       "    </tr>\n",
       "    <tr>\n",
       "      <th>MOBI_REGIO</th>\n",
       "      <td>133324</td>\n",
       "      <td>0.149597</td>\n",
       "    </tr>\n",
       "    <tr>\n",
       "      <th>PLZ8_GBZ</th>\n",
       "      <td>116515</td>\n",
       "      <td>0.130736</td>\n",
       "    </tr>\n",
       "    <tr>\n",
       "      <th>PLZ8_HHZ</th>\n",
       "      <td>116515</td>\n",
       "      <td>0.130736</td>\n",
       "    </tr>\n",
       "    <tr>\n",
       "      <th>PLZ8_BAUMAX</th>\n",
       "      <td>116515</td>\n",
       "      <td>0.130736</td>\n",
       "    </tr>\n",
       "    <tr>\n",
       "      <th>PLZ8_ANTG4</th>\n",
       "      <td>116515</td>\n",
       "      <td>0.130736</td>\n",
       "    </tr>\n",
       "    <tr>\n",
       "      <th>PLZ8_ANTG1</th>\n",
       "      <td>116515</td>\n",
       "      <td>0.130736</td>\n",
       "    </tr>\n",
       "    <tr>\n",
       "      <th>PLZ8_ANTG3</th>\n",
       "      <td>116515</td>\n",
       "      <td>0.130736</td>\n",
       "    </tr>\n",
       "    <tr>\n",
       "      <th>PLZ8_ANTG2</th>\n",
       "      <td>116515</td>\n",
       "      <td>0.130736</td>\n",
       "    </tr>\n",
       "    <tr>\n",
       "      <th>HEALTH_TYP</th>\n",
       "      <td>111196</td>\n",
       "      <td>0.124768</td>\n",
       "    </tr>\n",
       "    <tr>\n",
       "      <th>SHOPPER_TYP</th>\n",
       "      <td>111196</td>\n",
       "      <td>0.124768</td>\n",
       "    </tr>\n",
       "    <tr>\n",
       "      <th>VERS_TYP</th>\n",
       "      <td>111196</td>\n",
       "      <td>0.124768</td>\n",
       "    </tr>\n",
       "    <tr>\n",
       "      <th>NATIONALITAET_KZ</th>\n",
       "      <td>108315</td>\n",
       "      <td>0.121536</td>\n",
       "    </tr>\n",
       "    <tr>\n",
       "      <th>PRAEGENDE_JUGENDJAHRE</th>\n",
       "      <td>108164</td>\n",
       "      <td>0.121366</td>\n",
       "    </tr>\n",
       "    <tr>\n",
       "      <th>KBA13_ANZAHL_PKW</th>\n",
       "      <td>105800</td>\n",
       "      <td>0.118714</td>\n",
       "    </tr>\n",
       "    <tr>\n",
       "      <th>ANZ_HAUSHALTE_AKTIV</th>\n",
       "      <td>99611</td>\n",
       "      <td>0.111769</td>\n",
       "    </tr>\n",
       "    <tr>\n",
       "      <th>CAMEO_INTL_2015</th>\n",
       "      <td>99352</td>\n",
       "      <td>0.111479</td>\n",
       "    </tr>\n",
       "    <tr>\n",
       "      <th>...</th>\n",
       "      <td>...</td>\n",
       "      <td>...</td>\n",
       "    </tr>\n",
       "    <tr>\n",
       "      <th>GFK_URLAUBERTYP</th>\n",
       "      <td>4854</td>\n",
       "      <td>0.005446</td>\n",
       "    </tr>\n",
       "    <tr>\n",
       "      <th>LP_STATUS_GROB</th>\n",
       "      <td>4854</td>\n",
       "      <td>0.005446</td>\n",
       "    </tr>\n",
       "    <tr>\n",
       "      <th>ONLINE_AFFINITAET</th>\n",
       "      <td>4854</td>\n",
       "      <td>0.005446</td>\n",
       "    </tr>\n",
       "    <tr>\n",
       "      <th>RETOURTYP_BK_S</th>\n",
       "      <td>4854</td>\n",
       "      <td>0.005446</td>\n",
       "    </tr>\n",
       "    <tr>\n",
       "      <th>CJT_GESAMTTYP</th>\n",
       "      <td>4854</td>\n",
       "      <td>0.005446</td>\n",
       "    </tr>\n",
       "    <tr>\n",
       "      <th>ALTERSKATEGORIE_GROB</th>\n",
       "      <td>2881</td>\n",
       "      <td>0.003233</td>\n",
       "    </tr>\n",
       "    <tr>\n",
       "      <th>SEMIO_MAT</th>\n",
       "      <td>0</td>\n",
       "      <td>0.000000</td>\n",
       "    </tr>\n",
       "    <tr>\n",
       "      <th>SEMIO_TRADV</th>\n",
       "      <td>0</td>\n",
       "      <td>0.000000</td>\n",
       "    </tr>\n",
       "    <tr>\n",
       "      <th>SEMIO_PFLICHT</th>\n",
       "      <td>0</td>\n",
       "      <td>0.000000</td>\n",
       "    </tr>\n",
       "    <tr>\n",
       "      <th>SEMIO_KAEM</th>\n",
       "      <td>0</td>\n",
       "      <td>0.000000</td>\n",
       "    </tr>\n",
       "    <tr>\n",
       "      <th>SEMIO_DOM</th>\n",
       "      <td>0</td>\n",
       "      <td>0.000000</td>\n",
       "    </tr>\n",
       "    <tr>\n",
       "      <th>SEMIO_KRIT</th>\n",
       "      <td>0</td>\n",
       "      <td>0.000000</td>\n",
       "    </tr>\n",
       "    <tr>\n",
       "      <th>SEMIO_RAT</th>\n",
       "      <td>0</td>\n",
       "      <td>0.000000</td>\n",
       "    </tr>\n",
       "    <tr>\n",
       "      <th>SEMIO_KULT</th>\n",
       "      <td>0</td>\n",
       "      <td>0.000000</td>\n",
       "    </tr>\n",
       "    <tr>\n",
       "      <th>SEMIO_ERL</th>\n",
       "      <td>0</td>\n",
       "      <td>0.000000</td>\n",
       "    </tr>\n",
       "    <tr>\n",
       "      <th>SEMIO_LUST</th>\n",
       "      <td>0</td>\n",
       "      <td>0.000000</td>\n",
       "    </tr>\n",
       "    <tr>\n",
       "      <th>SEMIO_VERT</th>\n",
       "      <td>0</td>\n",
       "      <td>0.000000</td>\n",
       "    </tr>\n",
       "    <tr>\n",
       "      <th>FINANZ_ANLEGER</th>\n",
       "      <td>0</td>\n",
       "      <td>0.000000</td>\n",
       "    </tr>\n",
       "    <tr>\n",
       "      <th>SEMIO_REL</th>\n",
       "      <td>0</td>\n",
       "      <td>0.000000</td>\n",
       "    </tr>\n",
       "    <tr>\n",
       "      <th>SEMIO_SOZ</th>\n",
       "      <td>0</td>\n",
       "      <td>0.000000</td>\n",
       "    </tr>\n",
       "    <tr>\n",
       "      <th>SEMIO_FAM</th>\n",
       "      <td>0</td>\n",
       "      <td>0.000000</td>\n",
       "    </tr>\n",
       "    <tr>\n",
       "      <th>FINANZ_VORSORGER</th>\n",
       "      <td>0</td>\n",
       "      <td>0.000000</td>\n",
       "    </tr>\n",
       "    <tr>\n",
       "      <th>ANREDE_KZ</th>\n",
       "      <td>0</td>\n",
       "      <td>0.000000</td>\n",
       "    </tr>\n",
       "    <tr>\n",
       "      <th>FINANZ_MINIMALIST</th>\n",
       "      <td>0</td>\n",
       "      <td>0.000000</td>\n",
       "    </tr>\n",
       "    <tr>\n",
       "      <th>FINANZ_SPARER</th>\n",
       "      <td>0</td>\n",
       "      <td>0.000000</td>\n",
       "    </tr>\n",
       "    <tr>\n",
       "      <th>FINANZ_UNAUFFAELLIGER</th>\n",
       "      <td>0</td>\n",
       "      <td>0.000000</td>\n",
       "    </tr>\n",
       "    <tr>\n",
       "      <th>FINANZ_HAUSBAUER</th>\n",
       "      <td>0</td>\n",
       "      <td>0.000000</td>\n",
       "    </tr>\n",
       "    <tr>\n",
       "      <th>GREEN_AVANTGARDE</th>\n",
       "      <td>0</td>\n",
       "      <td>0.000000</td>\n",
       "    </tr>\n",
       "    <tr>\n",
       "      <th>FINANZTYP</th>\n",
       "      <td>0</td>\n",
       "      <td>0.000000</td>\n",
       "    </tr>\n",
       "    <tr>\n",
       "      <th>ZABEOTYP</th>\n",
       "      <td>0</td>\n",
       "      <td>0.000000</td>\n",
       "    </tr>\n",
       "  </tbody>\n",
       "</table>\n",
       "<p>85 rows × 2 columns</p>\n",
       "</div>"
      ],
      "text/plain": [
       "                       missing_count   Percent\n",
       "TITEL_KZ                      889061  0.997576\n",
       "AGER_TYP                      685843  0.769554\n",
       "KK_KUNDENTYP                  584612  0.655967\n",
       "KBA05_BAUMAX                  476524  0.534687\n",
       "GEBURTSJAHR                   392318  0.440203\n",
       "ALTER_HH                      310267  0.348137\n",
       "REGIOTYP                      158064  0.177357\n",
       "KKK                           158064  0.177357\n",
       "W_KEIT_KIND_HH                147988  0.166051\n",
       "KBA05_ANTG3                   133324  0.149597\n",
       "KBA05_ANTG2                   133324  0.149597\n",
       "KBA05_ANTG1                   133324  0.149597\n",
       "KBA05_GBZ                     133324  0.149597\n",
       "KBA05_ANTG4                   133324  0.149597\n",
       "MOBI_REGIO                    133324  0.149597\n",
       "PLZ8_GBZ                      116515  0.130736\n",
       "PLZ8_HHZ                      116515  0.130736\n",
       "PLZ8_BAUMAX                   116515  0.130736\n",
       "PLZ8_ANTG4                    116515  0.130736\n",
       "PLZ8_ANTG1                    116515  0.130736\n",
       "PLZ8_ANTG3                    116515  0.130736\n",
       "PLZ8_ANTG2                    116515  0.130736\n",
       "HEALTH_TYP                    111196  0.124768\n",
       "SHOPPER_TYP                   111196  0.124768\n",
       "VERS_TYP                      111196  0.124768\n",
       "NATIONALITAET_KZ              108315  0.121536\n",
       "PRAEGENDE_JUGENDJAHRE         108164  0.121366\n",
       "KBA13_ANZAHL_PKW              105800  0.118714\n",
       "ANZ_HAUSHALTE_AKTIV            99611  0.111769\n",
       "CAMEO_INTL_2015                99352  0.111479\n",
       "...                              ...       ...\n",
       "GFK_URLAUBERTYP                 4854  0.005446\n",
       "LP_STATUS_GROB                  4854  0.005446\n",
       "ONLINE_AFFINITAET               4854  0.005446\n",
       "RETOURTYP_BK_S                  4854  0.005446\n",
       "CJT_GESAMTTYP                   4854  0.005446\n",
       "ALTERSKATEGORIE_GROB            2881  0.003233\n",
       "SEMIO_MAT                          0  0.000000\n",
       "SEMIO_TRADV                        0  0.000000\n",
       "SEMIO_PFLICHT                      0  0.000000\n",
       "SEMIO_KAEM                         0  0.000000\n",
       "SEMIO_DOM                          0  0.000000\n",
       "SEMIO_KRIT                         0  0.000000\n",
       "SEMIO_RAT                          0  0.000000\n",
       "SEMIO_KULT                         0  0.000000\n",
       "SEMIO_ERL                          0  0.000000\n",
       "SEMIO_LUST                         0  0.000000\n",
       "SEMIO_VERT                         0  0.000000\n",
       "FINANZ_ANLEGER                     0  0.000000\n",
       "SEMIO_REL                          0  0.000000\n",
       "SEMIO_SOZ                          0  0.000000\n",
       "SEMIO_FAM                          0  0.000000\n",
       "FINANZ_VORSORGER                   0  0.000000\n",
       "ANREDE_KZ                          0  0.000000\n",
       "FINANZ_MINIMALIST                  0  0.000000\n",
       "FINANZ_SPARER                      0  0.000000\n",
       "FINANZ_UNAUFFAELLIGER              0  0.000000\n",
       "FINANZ_HAUSBAUER                   0  0.000000\n",
       "GREEN_AVANTGARDE                   0  0.000000\n",
       "FINANZTYP                          0  0.000000\n",
       "ZABEOTYP                           0  0.000000\n",
       "\n",
       "[85 rows x 2 columns]"
      ]
     },
     "execution_count": 10,
     "metadata": {},
     "output_type": "execute_result"
    }
   ],
   "source": [
    "# Perform an assessment of the total missing values and percent on each feature\n",
    "total = azdias.isnull().sum().sort_values(ascending=False)\n",
    "percent = (azdias.isnull().sum()/azdias.isnull().count()).sort_values(ascending=False)\n",
    "missing_df = pd.concat([total, percent], axis=1, keys=['missing_count', 'Percent'])\n",
    "missing_df.sort_values(by='missing_count',ascending=False, inplace=True)\n",
    "missing_df"
   ]
  },
  {
   "cell_type": "code",
   "execution_count": 12,
   "metadata": {},
   "outputs": [
    {
     "data": {
      "image/png": "[encoded data removed]",
      "text/plain": [
       "<matplotlib.figure.Figure at 0x7f2e9eb22710>"
      ]
     },
     "metadata": {
      "needs_background": "light"
     },
     "output_type": "display_data"
    }
   ],
   "source": [
    "# Investigate patterns in the amount of missing data in each column by visulization\n",
    "_ = missing_df.plot.barh(y='missing_count',figsize=(8,20))"
   ]
  },
  {
   "cell_type": "code",
   "execution_count": 11,
   "metadata": {},
   "outputs": [
    {
     "data": {
      "text/html": [
       "<div>\n",
       "<style>\n",
       "    .dataframe thead tr:only-child th {\n",
       "        text-align: right;\n",
       "    }\n",
       "\n",
       "    .dataframe thead th {\n",
       "        text-align: left;\n",
       "    }\n",
       "\n",
       "    .dataframe tbody tr th {\n",
       "        vertical-align: top;\n",
       "    }\n",
       "</style>\n",
       "<table border=\"1\" class=\"dataframe\">\n",
       "  <thead>\n",
       "    <tr style=\"text-align: right;\">\n",
       "      <th></th>\n",
       "      <th>missing_count</th>\n",
       "      <th>Percent</th>\n",
       "    </tr>\n",
       "  </thead>\n",
       "  <tbody>\n",
       "    <tr>\n",
       "      <th>TITEL_KZ</th>\n",
       "      <td>889061</td>\n",
       "      <td>0.997576</td>\n",
       "    </tr>\n",
       "    <tr>\n",
       "      <th>AGER_TYP</th>\n",
       "      <td>685843</td>\n",
       "      <td>0.769554</td>\n",
       "    </tr>\n",
       "    <tr>\n",
       "      <th>KK_KUNDENTYP</th>\n",
       "      <td>584612</td>\n",
       "      <td>0.655967</td>\n",
       "    </tr>\n",
       "    <tr>\n",
       "      <th>KBA05_BAUMAX</th>\n",
       "      <td>476524</td>\n",
       "      <td>0.534687</td>\n",
       "    </tr>\n",
       "    <tr>\n",
       "      <th>GEBURTSJAHR</th>\n",
       "      <td>392318</td>\n",
       "      <td>0.440203</td>\n",
       "    </tr>\n",
       "    <tr>\n",
       "      <th>ALTER_HH</th>\n",
       "      <td>310267</td>\n",
       "      <td>0.348137</td>\n",
       "    </tr>\n",
       "  </tbody>\n",
       "</table>\n",
       "</div>"
      ],
      "text/plain": [
       "              missing_count   Percent\n",
       "TITEL_KZ             889061  0.997576\n",
       "AGER_TYP             685843  0.769554\n",
       "KK_KUNDENTYP         584612  0.655967\n",
       "KBA05_BAUMAX         476524  0.534687\n",
       "GEBURTSJAHR          392318  0.440203\n",
       "ALTER_HH             310267  0.348137"
      ]
     },
     "execution_count": 11,
     "metadata": {},
     "output_type": "execute_result"
    }
   ],
   "source": [
    "# identify the features with more than 20% missing values\n",
    "missing_df[missing_df['Percent'] >= 0.20]"
   ]
  },
  {
   "cell_type": "code",
   "execution_count": 12,
   "metadata": {},
   "outputs": [
    {
     "data": {
      "text/html": [
       "<div>\n",
       "<style>\n",
       "    .dataframe thead tr:only-child th {\n",
       "        text-align: right;\n",
       "    }\n",
       "\n",
       "    .dataframe thead th {\n",
       "        text-align: left;\n",
       "    }\n",
       "\n",
       "    .dataframe tbody tr th {\n",
       "        vertical-align: top;\n",
       "    }\n",
       "</style>\n",
       "<table border=\"1\" class=\"dataframe\">\n",
       "  <thead>\n",
       "    <tr style=\"text-align: right;\">\n",
       "      <th></th>\n",
       "      <th>missing_count</th>\n",
       "      <th>Percent</th>\n",
       "    </tr>\n",
       "  </thead>\n",
       "  <tbody>\n",
       "    <tr>\n",
       "      <th>REGIOTYP</th>\n",
       "      <td>158064</td>\n",
       "      <td>0.177357</td>\n",
       "    </tr>\n",
       "    <tr>\n",
       "      <th>KKK</th>\n",
       "      <td>158064</td>\n",
       "      <td>0.177357</td>\n",
       "    </tr>\n",
       "    <tr>\n",
       "      <th>W_KEIT_KIND_HH</th>\n",
       "      <td>147988</td>\n",
       "      <td>0.166051</td>\n",
       "    </tr>\n",
       "    <tr>\n",
       "      <th>KBA05_ANTG3</th>\n",
       "      <td>133324</td>\n",
       "      <td>0.149597</td>\n",
       "    </tr>\n",
       "    <tr>\n",
       "      <th>KBA05_ANTG2</th>\n",
       "      <td>133324</td>\n",
       "      <td>0.149597</td>\n",
       "    </tr>\n",
       "    <tr>\n",
       "      <th>KBA05_ANTG1</th>\n",
       "      <td>133324</td>\n",
       "      <td>0.149597</td>\n",
       "    </tr>\n",
       "    <tr>\n",
       "      <th>KBA05_GBZ</th>\n",
       "      <td>133324</td>\n",
       "      <td>0.149597</td>\n",
       "    </tr>\n",
       "    <tr>\n",
       "      <th>KBA05_ANTG4</th>\n",
       "      <td>133324</td>\n",
       "      <td>0.149597</td>\n",
       "    </tr>\n",
       "    <tr>\n",
       "      <th>MOBI_REGIO</th>\n",
       "      <td>133324</td>\n",
       "      <td>0.149597</td>\n",
       "    </tr>\n",
       "    <tr>\n",
       "      <th>PLZ8_GBZ</th>\n",
       "      <td>116515</td>\n",
       "      <td>0.130736</td>\n",
       "    </tr>\n",
       "    <tr>\n",
       "      <th>PLZ8_HHZ</th>\n",
       "      <td>116515</td>\n",
       "      <td>0.130736</td>\n",
       "    </tr>\n",
       "    <tr>\n",
       "      <th>PLZ8_BAUMAX</th>\n",
       "      <td>116515</td>\n",
       "      <td>0.130736</td>\n",
       "    </tr>\n",
       "    <tr>\n",
       "      <th>PLZ8_ANTG4</th>\n",
       "      <td>116515</td>\n",
       "      <td>0.130736</td>\n",
       "    </tr>\n",
       "    <tr>\n",
       "      <th>PLZ8_ANTG1</th>\n",
       "      <td>116515</td>\n",
       "      <td>0.130736</td>\n",
       "    </tr>\n",
       "    <tr>\n",
       "      <th>PLZ8_ANTG3</th>\n",
       "      <td>116515</td>\n",
       "      <td>0.130736</td>\n",
       "    </tr>\n",
       "    <tr>\n",
       "      <th>PLZ8_ANTG2</th>\n",
       "      <td>116515</td>\n",
       "      <td>0.130736</td>\n",
       "    </tr>\n",
       "    <tr>\n",
       "      <th>HEALTH_TYP</th>\n",
       "      <td>111196</td>\n",
       "      <td>0.124768</td>\n",
       "    </tr>\n",
       "    <tr>\n",
       "      <th>SHOPPER_TYP</th>\n",
       "      <td>111196</td>\n",
       "      <td>0.124768</td>\n",
       "    </tr>\n",
       "    <tr>\n",
       "      <th>VERS_TYP</th>\n",
       "      <td>111196</td>\n",
       "      <td>0.124768</td>\n",
       "    </tr>\n",
       "    <tr>\n",
       "      <th>NATIONALITAET_KZ</th>\n",
       "      <td>108315</td>\n",
       "      <td>0.121536</td>\n",
       "    </tr>\n",
       "    <tr>\n",
       "      <th>PRAEGENDE_JUGENDJAHRE</th>\n",
       "      <td>108164</td>\n",
       "      <td>0.121366</td>\n",
       "    </tr>\n",
       "    <tr>\n",
       "      <th>KBA13_ANZAHL_PKW</th>\n",
       "      <td>105800</td>\n",
       "      <td>0.118714</td>\n",
       "    </tr>\n",
       "    <tr>\n",
       "      <th>ANZ_HAUSHALTE_AKTIV</th>\n",
       "      <td>99611</td>\n",
       "      <td>0.111769</td>\n",
       "    </tr>\n",
       "    <tr>\n",
       "      <th>CAMEO_INTL_2015</th>\n",
       "      <td>99352</td>\n",
       "      <td>0.111479</td>\n",
       "    </tr>\n",
       "    <tr>\n",
       "      <th>CAMEO_DEU_2015</th>\n",
       "      <td>99352</td>\n",
       "      <td>0.111479</td>\n",
       "    </tr>\n",
       "    <tr>\n",
       "      <th>CAMEO_DEUG_2015</th>\n",
       "      <td>99352</td>\n",
       "      <td>0.111479</td>\n",
       "    </tr>\n",
       "    <tr>\n",
       "      <th>LP_LEBENSPHASE_FEIN</th>\n",
       "      <td>97632</td>\n",
       "      <td>0.109549</td>\n",
       "    </tr>\n",
       "    <tr>\n",
       "      <th>ARBEIT</th>\n",
       "      <td>97375</td>\n",
       "      <td>0.109260</td>\n",
       "    </tr>\n",
       "    <tr>\n",
       "      <th>RELAT_AB</th>\n",
       "      <td>97375</td>\n",
       "      <td>0.109260</td>\n",
       "    </tr>\n",
       "    <tr>\n",
       "      <th>ORTSGR_KLS9</th>\n",
       "      <td>97274</td>\n",
       "      <td>0.109147</td>\n",
       "    </tr>\n",
       "    <tr>\n",
       "      <th>ANZ_HH_TITEL</th>\n",
       "      <td>97008</td>\n",
       "      <td>0.108848</td>\n",
       "    </tr>\n",
       "    <tr>\n",
       "      <th>LP_LEBENSPHASE_GROB</th>\n",
       "      <td>94572</td>\n",
       "      <td>0.106115</td>\n",
       "    </tr>\n",
       "    <tr>\n",
       "      <th>INNENSTADT</th>\n",
       "      <td>93740</td>\n",
       "      <td>0.105182</td>\n",
       "    </tr>\n",
       "    <tr>\n",
       "      <th>EWDICHTE</th>\n",
       "      <td>93740</td>\n",
       "      <td>0.105182</td>\n",
       "    </tr>\n",
       "    <tr>\n",
       "      <th>BALLRAUM</th>\n",
       "      <td>93740</td>\n",
       "      <td>0.105182</td>\n",
       "    </tr>\n",
       "    <tr>\n",
       "      <th>GEBAEUDETYP_RASTER</th>\n",
       "      <td>93155</td>\n",
       "      <td>0.104525</td>\n",
       "    </tr>\n",
       "    <tr>\n",
       "      <th>WOHNLAGE</th>\n",
       "      <td>93148</td>\n",
       "      <td>0.104517</td>\n",
       "    </tr>\n",
       "    <tr>\n",
       "      <th>OST_WEST_KZ</th>\n",
       "      <td>93148</td>\n",
       "      <td>0.104517</td>\n",
       "    </tr>\n",
       "    <tr>\n",
       "      <th>MIN_GEBAEUDEJAHR</th>\n",
       "      <td>93148</td>\n",
       "      <td>0.104517</td>\n",
       "    </tr>\n",
       "    <tr>\n",
       "      <th>GEBAEUDETYP</th>\n",
       "      <td>93148</td>\n",
       "      <td>0.104517</td>\n",
       "    </tr>\n",
       "  </tbody>\n",
       "</table>\n",
       "</div>"
      ],
      "text/plain": [
       "                       missing_count   Percent\n",
       "REGIOTYP                      158064  0.177357\n",
       "KKK                           158064  0.177357\n",
       "W_KEIT_KIND_HH                147988  0.166051\n",
       "KBA05_ANTG3                   133324  0.149597\n",
       "KBA05_ANTG2                   133324  0.149597\n",
       "KBA05_ANTG1                   133324  0.149597\n",
       "KBA05_GBZ                     133324  0.149597\n",
       "KBA05_ANTG4                   133324  0.149597\n",
       "MOBI_REGIO                    133324  0.149597\n",
       "PLZ8_GBZ                      116515  0.130736\n",
       "PLZ8_HHZ                      116515  0.130736\n",
       "PLZ8_BAUMAX                   116515  0.130736\n",
       "PLZ8_ANTG4                    116515  0.130736\n",
       "PLZ8_ANTG1                    116515  0.130736\n",
       "PLZ8_ANTG3                    116515  0.130736\n",
       "PLZ8_ANTG2                    116515  0.130736\n",
       "HEALTH_TYP                    111196  0.124768\n",
       "SHOPPER_TYP                   111196  0.124768\n",
       "VERS_TYP                      111196  0.124768\n",
       "NATIONALITAET_KZ              108315  0.121536\n",
       "PRAEGENDE_JUGENDJAHRE         108164  0.121366\n",
       "KBA13_ANZAHL_PKW              105800  0.118714\n",
       "ANZ_HAUSHALTE_AKTIV            99611  0.111769\n",
       "CAMEO_INTL_2015                99352  0.111479\n",
       "CAMEO_DEU_2015                 99352  0.111479\n",
       "CAMEO_DEUG_2015                99352  0.111479\n",
       "LP_LEBENSPHASE_FEIN            97632  0.109549\n",
       "ARBEIT                         97375  0.109260\n",
       "RELAT_AB                       97375  0.109260\n",
       "ORTSGR_KLS9                    97274  0.109147\n",
       "ANZ_HH_TITEL                   97008  0.108848\n",
       "LP_LEBENSPHASE_GROB            94572  0.106115\n",
       "INNENSTADT                     93740  0.105182\n",
       "EWDICHTE                       93740  0.105182\n",
       "BALLRAUM                       93740  0.105182\n",
       "GEBAEUDETYP_RASTER             93155  0.104525\n",
       "WOHNLAGE                       93148  0.104517\n",
       "OST_WEST_KZ                    93148  0.104517\n",
       "MIN_GEBAEUDEJAHR               93148  0.104517\n",
       "GEBAEUDETYP                    93148  0.104517"
      ]
     },
     "execution_count": 12,
     "metadata": {},
     "output_type": "execute_result"
    }
   ],
   "source": [
    "# identify the features with more than 10% but under 20% missing values\n",
    "missing_df[(missing_df['Percent'] > 0.10) & (missing_df['Percent'] < 0.20)]"
   ]
  },
  {
   "cell_type": "code",
   "execution_count": 13,
   "metadata": {},
   "outputs": [
    {
     "data": {
      "text/plain": [
       "['TITEL_KZ',\n",
       " 'AGER_TYP',\n",
       " 'KK_KUNDENTYP',\n",
       " 'KBA05_BAUMAX',\n",
       " 'GEBURTSJAHR',\n",
       " 'ALTER_HH']"
      ]
     },
     "execution_count": 13,
     "metadata": {},
     "output_type": "execute_result"
    }
   ],
   "source": [
    "# Remove the outlier columns from the dataset. \n",
    "drop_columns = missing_df[missing_df['Percent'] >= 0.20].index.tolist()\n",
    "drop_columns"
   ]
  },
  {
   "cell_type": "code",
   "execution_count": 37,
   "metadata": {},
   "outputs": [
    {
     "data": {
      "text/plain": [
       "(891221, 79)"
      ]
     },
     "execution_count": 37,
     "metadata": {},
     "output_type": "execute_result"
    }
   ],
   "source": [
    "# make a copy of original dataframe\n",
    "azdias_copy = azdias.copy()\n",
    "# drop the drop_columns\n",
    "azdias_copy.drop(drop_columns, axis=1, inplace=True)\n",
    "azdias_copy.shape"
   ]
  },
  {
   "cell_type": "markdown",
   "metadata": {},
   "source": [
    "#### Discussion 1.1.2: Assess Missing Data in Each Column\n",
    "\n",
    "- From the graph above, we can see that a few features have more than 20% missing values. Many features have more than 10% missing values. It's obvious that the six features with more than 20% missing values are the outliers in terms of the proportion of values that are missing. In particular, 'TITEL_KZ' should be dropped since 99% of the values are missing which makes this feature no valid.\n",
    "- Thus, I dropped those six features ('TITEL_KZ', 'AGER_TYP', 'KK_KUNDENTYP','KBA05_BAUMAX', 'GEBURTSJAHR', 'ALTER_HH') with most missing values from the dataset. \n",
    "- Of those other features with around 10% missing values, I will examine them later."
   ]
  },
  {
   "cell_type": "markdown",
   "metadata": {},
   "source": [
    "#### Step 1.1.3: Assess Missing Data in Each Row\n",
    "\n",
    "Now, you'll perform a similar assessment for the rows of the dataset. How much data is missing in each row? As with the columns, you should see some groups of points that have a very different numbers of missing values. Divide the data into two subsets: one for data points that are above some threshold for missing values, and a second subset for points below that threshold.\n",
    "\n",
    "In order to know what to do with the outlier rows, we should see if the distribution of data values on columns that are not missing data (or are missing very little data) are similar or different between the two groups. Select at least five of these columns and compare the distribution of values.\n",
    "- You can use seaborn's [`countplot()`](https://seaborn.pydata.org/generated/seaborn.countplot.html) function to create a bar chart of code frequencies and matplotlib's [`subplot()`](https://matplotlib.org/api/_as_gen/matplotlib.pyplot.subplot.html) function to put bar charts for the two subplots side by side.\n",
    "- To reduce repeated code, you might want to write a function that can perform this comparison, taking as one of its arguments a column to be compared.\n",
    "\n",
    "Depending on what you observe in your comparison, this will have implications on how you approach your conclusions later in the analysis. If the distributions of non-missing features look similar between the data with many missing values and the data with few or no missing values, then we could argue that simply dropping those points from the analysis won't present a major issue. On the other hand, if the data with many missing values looks very different from the data with few or no missing values, then we should make a note on those data as special. We'll revisit these data later on. **Either way, you should continue your analysis for now using just the subset of the data with few or no missing values.**"
   ]
  },
  {
   "cell_type": "code",
   "execution_count": 38,
   "metadata": {},
   "outputs": [
    {
     "data": {
      "text/plain": [
       "0     623209\n",
       "47     45578\n",
       "2      27926\n",
       "43     27369\n",
       "8      24592\n",
       "5      22515\n",
       "3      17629\n",
       "1      15738\n",
       "6      13771\n",
       "7      13714\n",
       "4      12607\n",
       "34     10816\n",
       "10      5410\n",
       "15      4743\n",
       "35      3911\n",
       "13      3255\n",
       "9       3042\n",
       "33      2985\n",
       "16      2505\n",
       "14      2243\n",
       "19      1180\n",
       "11      1127\n",
       "12       766\n",
       "17       677\n",
       "37       538\n",
       "45       494\n",
       "18       428\n",
       "38       421\n",
       "41       356\n",
       "20       349\n",
       "32       206\n",
       "44       155\n",
       "21       150\n",
       "40       137\n",
       "23       132\n",
       "22       129\n",
       "36        84\n",
       "39        77\n",
       "24        69\n",
       "26        59\n",
       "25        55\n",
       "27        24\n",
       "42        21\n",
       "29        12\n",
       "30         6\n",
       "28         5\n",
       "31         3\n",
       "49         2\n",
       "48         1\n",
       "dtype: int64"
      ]
     },
     "execution_count": 38,
     "metadata": {},
     "output_type": "execute_result"
    }
   ],
   "source": [
    "# How much data is missing in each row of the dataset?\n",
    "azdias_copy.isnull().sum(axis=1).value_counts()"
   ]
  },
  {
   "cell_type": "code",
   "execution_count": 39,
   "metadata": {},
   "outputs": [
    {
     "data": {
      "image/png": "[encoded data removed]",
      "text/plain": [
       "<matplotlib.figure.Figure at 0x7f1eb9af5358>"
      ]
     },
     "metadata": {
      "needs_background": "light"
     },
     "output_type": "display_data"
    }
   ],
   "source": [
    "plt.figure(figsize=(12,4))\n",
    "\n",
    "_ = sns.countplot(azdias_copy.isnull().sum(axis=1))"
   ]
  },
  {
   "cell_type": "code",
   "execution_count": 40,
   "metadata": {},
   "outputs": [],
   "source": [
    "# Write code to divide the data into two subsets based on the number of missing\n",
    "# values in each row.\n",
    "\n",
    "# from the above graph, the threshold should be around 20\n",
    "missing_low = azdias_copy[azdias_copy.isnull().sum(axis=1) < 20].reset_index(drop=True)\n",
    "missing_high = azdias_copy[azdias_copy.isnull().sum(axis=1) >= 20].reset_index(drop=True)\n",
    "missing_low_columns = missing_low.columns.tolist()"
   ]
  },
  {
   "cell_type": "code",
   "execution_count": 41,
   "metadata": {},
   "outputs": [
    {
     "name": "stdout",
     "output_type": "stream",
     "text": [
      "No. of low missing rows:  797077\n",
      "No. of high missing rows:  94144\n",
      "Columns with low values:  ['ALTERSKATEGORIE_GROB', 'ANREDE_KZ', 'CJT_GESAMTTYP', 'FINANZ_MINIMALIST', 'FINANZ_SPARER', 'FINANZ_VORSORGER', 'FINANZ_ANLEGER', 'FINANZ_UNAUFFAELLIGER', 'FINANZ_HAUSBAUER', 'FINANZTYP', 'GFK_URLAUBERTYP', 'GREEN_AVANTGARDE', 'HEALTH_TYP', 'LP_LEBENSPHASE_FEIN', 'LP_LEBENSPHASE_GROB', 'LP_FAMILIE_FEIN', 'LP_FAMILIE_GROB', 'LP_STATUS_FEIN', 'LP_STATUS_GROB', 'NATIONALITAET_KZ', 'PRAEGENDE_JUGENDJAHRE', 'RETOURTYP_BK_S', 'SEMIO_SOZ', 'SEMIO_FAM', 'SEMIO_REL', 'SEMIO_MAT', 'SEMIO_VERT', 'SEMIO_LUST', 'SEMIO_ERL', 'SEMIO_KULT', 'SEMIO_RAT', 'SEMIO_KRIT', 'SEMIO_DOM', 'SEMIO_KAEM', 'SEMIO_PFLICHT', 'SEMIO_TRADV', 'SHOPPER_TYP', 'SOHO_KZ', 'VERS_TYP', 'ZABEOTYP', 'ANZ_PERSONEN', 'ANZ_TITEL', 'HH_EINKOMMEN_SCORE', 'W_KEIT_KIND_HH', 'WOHNDAUER_2008', 'ANZ_HAUSHALTE_AKTIV', 'ANZ_HH_TITEL', 'GEBAEUDETYP', 'KONSUMNAEHE', 'MIN_GEBAEUDEJAHR', 'OST_WEST_KZ', 'WOHNLAGE', 'CAMEO_DEUG_2015', 'CAMEO_DEU_2015', 'CAMEO_INTL_2015', 'KBA05_ANTG1', 'KBA05_ANTG2', 'KBA05_ANTG3', 'KBA05_ANTG4', 'KBA05_GBZ', 'BALLRAUM', 'EWDICHTE', 'INNENSTADT', 'GEBAEUDETYP_RASTER', 'KKK', 'MOBI_REGIO', 'ONLINE_AFFINITAET', 'REGIOTYP', 'KBA13_ANZAHL_PKW', 'PLZ8_ANTG1', 'PLZ8_ANTG2', 'PLZ8_ANTG3', 'PLZ8_ANTG4', 'PLZ8_BAUMAX', 'PLZ8_HHZ', 'PLZ8_GBZ', 'ARBEIT', 'ORTSGR_KLS9', 'RELAT_AB']\n"
     ]
    }
   ],
   "source": [
    "print('No. of low missing rows: ', missing_low.shape[0])\n",
    "print('No. of high missing rows: ', missing_high.shape[0])\n",
    "print('Columns with low values: ', missing_low_columns)"
   ]
  },
  {
   "cell_type": "code",
   "execution_count": 42,
   "metadata": {},
   "outputs": [
    {
     "data": {
      "image/png": "[encoded data removed]",
      "text/plain": [
       "<matplotlib.figure.Figure at 0x7f1eb99139b0>"
      ]
     },
     "metadata": {
      "needs_background": "light"
     },
     "output_type": "display_data"
    }
   ],
   "source": [
    "figure, axs = plt.subplots(nrows=5, ncols=2, figsize = (16,20),squeeze=False)\n",
    "figure.subplots_adjust(hspace =1, wspace=.2, top = 0.5) # tune the subplot layout\n",
    "for i in range(len(missing_low_columns[:5])):\n",
    "    sns.countplot(missing_low[missing_low_columns[:5][i]], ax=axs[i][0])\n",
    "    axs[i][0].set_title('Low missing values')\n",
    "    sns.countplot(missing_high[missing_low_columns[:5][i]], ax=axs[i][1])\n",
    "    axs[i][1].set_title('High missing values')"
   ]
  },
  {
   "cell_type": "markdown",
   "metadata": {},
   "source": [
    "#### Discussion 1.1.3: Assess Missing Data in Each Row\n",
    "\n",
    "I performed a similar assessment for the rows of the dataset for identifying the outlier rows. I first divided the features into two categories: missing_low and missing_high with cutting by the 75% distribution threshold. The I made the comparisona among 5 features with the distribution of low missing and high missing. Through the comparisons above, I found that two features ('ALTERSKATEGORIE_GROB' and 'ANREDE_KZ') have the pattern like this：the distributions of non-missing features look similar between the data with many missing values and the data with few missing values. However, the other three features ('CJT_GESAMTTYP', 'FINANZ_MINIMALIST' , 'FINANZ_SPARER') have a different distribution of values between the two split groups. The data with many missing values looks very different from the data with few or no missing values. \n",
    "\n",
    "##### Different in distributions: revisit those features later\n",
    "- 'CJT_GESAMTTYP'\n",
    "- 'FINANZ_MINIMALIST'\n",
    "- 'FINANZ_SPARER'\n",
    "\n",
    "##### Similar in distributions: maybe simply drop the missing values later\n",
    "- 'ALTERSKATEGORIE_GROB' \n",
    "- 'ANREDE_KZ'"
   ]
  },
  {
   "cell_type": "markdown",
   "metadata": {},
   "source": [
    "### Step 1.2: Select and Re-Encode Features\n",
    "\n",
    "Checking for missing data isn't the only way in which you can prepare a dataset for analysis. Since the unsupervised learning techniques to be used will only work on data that is encoded numerically, you need to make a few encoding changes or additional assumptions to be able to make progress. In addition, while almost all of the values in the dataset are encoded using numbers, not all of them represent numeric values. Check the third column of the feature summary (`feat_info`) for a summary of types of measurement.\n",
    "- For numeric and interval data, these features can be kept without changes.\n",
    "- Most of the variables in the dataset are ordinal in nature. While ordinal values may technically be non-linear in spacing, make the simplifying assumption that the ordinal variables can be treated as being interval in nature (that is, kept without any changes).\n",
    "- Special handling may be necessary for the remaining two variable types: *categorical, and 'mixed'*.\n",
    "\n",
    "In the first two parts of this sub-step, you will perform an investigation of the categorical and mixed-type features and make a decision on each of them, whether you will keep, drop, or re-encode each. Then, in the last part, you will create a new data frame with only the selected and engineered columns.\n",
    "\n",
    "Data wrangling is often the trickiest part of the data analysis process, and there's a lot of it to be done here. But stick with it: once you're done with this step, you'll be ready to get to the machine learning parts of the project!"
   ]
  },
  {
   "cell_type": "code",
   "execution_count": 43,
   "metadata": {},
   "outputs": [
    {
     "data": {
      "text/plain": [
       "ordinal        49\n",
       "categorical    21\n",
       "numeric         7\n",
       "mixed           7\n",
       "interval        1\n",
       "Name: type, dtype: int64"
      ]
     },
     "execution_count": 43,
     "metadata": {},
     "output_type": "execute_result"
    }
   ],
   "source": [
    "# How many features are there of each data type?\n",
    "feat_info['type'].value_counts()"
   ]
  },
  {
   "cell_type": "markdown",
   "metadata": {},
   "source": [
    "#### Step 1.2.1: Re-Encode Categorical Features\n",
    "\n",
    "For categorical data, you would ordinarily need to encode the levels as dummy variables. Depending on the number of categories, perform one of the following:\n",
    "- For binary (two-level) categoricals that take numeric values, you can keep them without needing to do anything.\n",
    "- There is one binary variable that takes on non-numeric values. For this one, you need to re-encode the values as numbers or create a dummy variable.\n",
    "- For multi-level categoricals (three or more values), you can choose to encode the values using multiple dummy variables (e.g. via [OneHotEncoder](http://scikit-learn.org/stable/modules/generated/sklearn.preprocessing.OneHotEncoder.html)), or (to keep things straightforward) just drop them from the analysis. As always, document your choices in the Discussion section."
   ]
  },
  {
   "cell_type": "code",
   "execution_count": 44,
   "metadata": {},
   "outputs": [
    {
     "data": {
      "text/plain": [
       "['AGER_TYP',\n",
       " 'ANREDE_KZ',\n",
       " 'CJT_GESAMTTYP',\n",
       " 'FINANZTYP',\n",
       " 'GFK_URLAUBERTYP',\n",
       " 'GREEN_AVANTGARDE',\n",
       " 'LP_FAMILIE_FEIN',\n",
       " 'LP_FAMILIE_GROB',\n",
       " 'LP_STATUS_FEIN',\n",
       " 'LP_STATUS_GROB',\n",
       " 'NATIONALITAET_KZ',\n",
       " 'SHOPPER_TYP',\n",
       " 'SOHO_KZ',\n",
       " 'TITEL_KZ',\n",
       " 'VERS_TYP',\n",
       " 'ZABEOTYP',\n",
       " 'KK_KUNDENTYP',\n",
       " 'GEBAEUDETYP',\n",
       " 'OST_WEST_KZ',\n",
       " 'CAMEO_DEUG_2015',\n",
       " 'CAMEO_DEU_2015']"
      ]
     },
     "execution_count": 44,
     "metadata": {},
     "output_type": "execute_result"
    }
   ],
   "source": [
    "# Assess categorical variables: which are binary, which are multi-level, and\n",
    "# which one needs to be re-encoded?\n",
    "cat_v = feat_info[feat_info[\"type\"]==\"categorical\"][\"attribute\"]\n",
    "cat_v = cat_v.tolist()\n",
    "cat_v"
   ]
  },
  {
   "cell_type": "code",
   "execution_count": 45,
   "metadata": {},
   "outputs": [
    {
     "data": {
      "text/plain": [
       "['ANREDE_KZ',\n",
       " 'CJT_GESAMTTYP',\n",
       " 'FINANZTYP',\n",
       " 'GFK_URLAUBERTYP',\n",
       " 'GREEN_AVANTGARDE',\n",
       " 'LP_FAMILIE_FEIN',\n",
       " 'LP_FAMILIE_GROB',\n",
       " 'LP_STATUS_FEIN',\n",
       " 'LP_STATUS_GROB',\n",
       " 'NATIONALITAET_KZ',\n",
       " 'SHOPPER_TYP',\n",
       " 'SOHO_KZ',\n",
       " 'VERS_TYP',\n",
       " 'ZABEOTYP',\n",
       " 'GEBAEUDETYP',\n",
       " 'OST_WEST_KZ',\n",
       " 'CAMEO_DEUG_2015',\n",
       " 'CAMEO_DEU_2015']"
      ]
     },
     "execution_count": 45,
     "metadata": {},
     "output_type": "execute_result"
    }
   ],
   "source": [
    "# remove the features that I have dropped already for too many missing values\n",
    "for v in cat_v:\n",
    "    if v in drop_columns:\n",
    "        cat_v.remove(v)\n",
    "cat_v"
   ]
  },
  {
   "cell_type": "code",
   "execution_count": 46,
   "metadata": {},
   "outputs": [],
   "source": [
    "# identify the binary categoricals and multi-level categoricals\n",
    "binary_v = []\n",
    "multi_v = []\n",
    "for v in cat_v:\n",
    "    if (len(azdias_copy[v].unique()) == 2):\n",
    "        binary_v.append(v)\n",
    "    elif (len(azdias_copy[v].unique()) > 2):\n",
    "        multi_v.append(v)\n",
    "    else:\n",
    "        print('Check the feature')\n",
    "        \n",
    "non_numeric_binary = ['OST_WEST_KZ']"
   ]
  },
  {
   "cell_type": "code",
   "execution_count": 53,
   "metadata": {},
   "outputs": [
    {
     "name": "stdout",
     "output_type": "stream",
     "text": [
      "The binary categoricals are :  ['ANREDE_KZ', 'GREEN_AVANTGARDE']\n",
      "The multi-level categoricals are :  ['CJT_GESAMTTYP', 'FINANZTYP', 'GFK_URLAUBERTYP', 'LP_FAMILIE_FEIN', 'LP_FAMILIE_GROB', 'LP_STATUS_FEIN', 'LP_STATUS_GROB', 'NATIONALITAET_KZ', 'SHOPPER_TYP', 'SOHO_KZ', 'VERS_TYP', 'ZABEOTYP', 'GEBAEUDETYP', 'CAMEO_DEUG_2015', 'CAMEO_DEU_2015']\n",
      "Non numeric binary variable is :  ['OST_WEST_KZ']\n"
     ]
    }
   ],
   "source": [
    "multi_v.remove('OST_WEST_KZ')\n",
    "print('The binary categoricals are : ', binary_v)\n",
    "print('The multi-level categoricals are : ', multi_v)\n",
    "print('Non numeric binary variable is : ', non_numeric_binary)"
   ]
  },
  {
   "cell_type": "code",
   "execution_count": 48,
   "metadata": {},
   "outputs": [
    {
     "data": {
      "text/plain": [
       "2    465305\n",
       "1    425916\n",
       "Name: ANREDE_KZ, dtype: int64"
      ]
     },
     "execution_count": 48,
     "metadata": {},
     "output_type": "execute_result"
    }
   ],
   "source": [
    "azdias_copy.ANREDE_KZ.value_counts()"
   ]
  },
  {
   "cell_type": "code",
   "execution_count": 49,
   "metadata": {},
   "outputs": [
    {
     "data": {
      "text/plain": [
       "0    715996\n",
       "1    175225\n",
       "Name: GREEN_AVANTGARDE, dtype: int64"
      ]
     },
     "execution_count": 49,
     "metadata": {},
     "output_type": "execute_result"
    }
   ],
   "source": [
    "azdias_copy.GREEN_AVANTGARDE.value_counts()"
   ]
  },
  {
   "cell_type": "code",
   "execution_count": 50,
   "metadata": {},
   "outputs": [
    {
     "data": {
      "text/plain": [
       "0    465305\n",
       "1    425916\n",
       "Name: ANREDE_KZ, dtype: int64"
      ]
     },
     "execution_count": 50,
     "metadata": {},
     "output_type": "execute_result"
    }
   ],
   "source": [
    "# Re-encode categorical variable(s) to be kept in the analysis.\n",
    "azdias_copy.ANREDE_KZ = azdias.ANREDE_KZ.map({2:0,1:1})\n",
    "azdias_copy.ANREDE_KZ.value_counts()"
   ]
  },
  {
   "cell_type": "code",
   "execution_count": 51,
   "metadata": {},
   "outputs": [
    {
     "data": {
      "text/plain": [
       "W    629528\n",
       "O    168545\n",
       "Name: OST_WEST_KZ, dtype: int64"
      ]
     },
     "execution_count": 51,
     "metadata": {},
     "output_type": "execute_result"
    }
   ],
   "source": [
    "# encode OST_WEST_KZ in this section since it is a non numeric column\n",
    "azdias_copy.OST_WEST_KZ.value_counts()"
   ]
  },
  {
   "cell_type": "code",
   "execution_count": 52,
   "metadata": {},
   "outputs": [
    {
     "data": {
      "text/plain": [
       "0.0    629528\n",
       "1.0    168545\n",
       "Name: OST_WEST_KZ, dtype: int64"
      ]
     },
     "execution_count": 52,
     "metadata": {},
     "output_type": "execute_result"
    }
   ],
   "source": [
    "azdias_copy.OST_WEST_KZ = azdias.OST_WEST_KZ.map({'W':0,'O':1})\n",
    "azdias_copy.OST_WEST_KZ.value_counts()"
   ]
  },
  {
   "cell_type": "markdown",
   "metadata": {},
   "source": [
    "#### Discussion 1.2.1: Re-Encode Categorical Features\n",
    "\n",
    "For categorical data, I divided them into three categoricals: numeric_binary, multi-level and one non_numeric_binary. \n",
    "\n",
    "I have already removed the outlier columns from the dataset because of the high missing values percentage, now I rencoded the non_numeric_binary 'OST_WEST_KZ' to 0,1. Besides, I also choosed to re-encode the 'ANREDE_KZ' to 0,1 for consistency.  \n"
   ]
  },
  {
   "cell_type": "markdown",
   "metadata": {},
   "source": [
    "#### Step 1.2.2: Engineer Mixed-Type Features\n",
    "\n",
    "There are a handful of features that are marked as \"mixed\" in the feature summary that require special treatment in order to be included in the analysis. There are two in particular that deserve attention; the handling of the rest are up to your own choices:\n",
    "- \"PRAEGENDE_JUGENDJAHRE\" combines information on three dimensions: generation by decade, movement (mainstream vs. avantgarde), and nation (east vs. west). While there aren't enough levels to disentangle east from west, you should create two new variables to capture the other two dimensions: an interval-type variable for decade, and a binary variable for movement.\n",
    "- \"CAMEO_INTL_2015\" combines information on two axes: wealth and life stage. Break up the two-digit codes by their 'tens'-place and 'ones'-place digits into two new ordinal variables (which, for the purposes of this project, is equivalent to just treating them as their raw numeric values).\n",
    "- If you decide to keep or engineer new features around the other mixed-type features, make sure you note your steps in the Discussion section.\n",
    "\n",
    "Be sure to check `Data_Dictionary.md` for the details needed to finish these tasks."
   ]
  },
  {
   "cell_type": "code",
   "execution_count": 54,
   "metadata": {},
   "outputs": [
    {
     "data": {
      "text/plain": [
       "['LP_LEBENSPHASE_FEIN',\n",
       " 'LP_LEBENSPHASE_GROB',\n",
       " 'PRAEGENDE_JUGENDJAHRE',\n",
       " 'WOHNLAGE',\n",
       " 'CAMEO_INTL_2015',\n",
       " 'KBA05_BAUMAX',\n",
       " 'PLZ8_BAUMAX']"
      ]
     },
     "execution_count": 54,
     "metadata": {},
     "output_type": "execute_result"
    }
   ],
   "source": [
    "mixed_v = feat_info[feat_info[\"type\"]==\"mixed\"][\"attribute\"]\n",
    "mixed_v = mixed_v.tolist()\n",
    "mixed_v"
   ]
  },
  {
   "cell_type": "code",
   "execution_count": 55,
   "metadata": {},
   "outputs": [
    {
     "data": {
      "text/plain": [
       "14.0    188697\n",
       "8.0     145988\n",
       "5.0      86416\n",
       "10.0     85808\n",
       "3.0      55195\n",
       "15.0     42547\n",
       "11.0     35752\n",
       "9.0      33570\n",
       "6.0      25652\n",
       "12.0     24446\n",
       "1.0      21282\n",
       "4.0      20451\n",
       "2.0       7479\n",
       "13.0      5764\n",
       "7.0       4010\n",
       "Name: PRAEGENDE_JUGENDJAHRE, dtype: int64"
      ]
     },
     "execution_count": 55,
     "metadata": {},
     "output_type": "execute_result"
    }
   ],
   "source": [
    "azdias_copy.PRAEGENDE_JUGENDJAHRE.value_counts()"
   ]
  },
  {
   "cell_type": "code",
   "execution_count": 56,
   "metadata": {},
   "outputs": [],
   "source": [
    "# Investigate \"PRAEGENDE_JUGENDJAHRE\" and engineer two new variables.\n",
    "azdias_copy['PRAEGENDE_JUGENDJAHRE_DECADE'] = azdias_copy['PRAEGENDE_JUGENDJAHRE']\n",
    "azdias_copy['PRAEGENDE_JUGENDJAHRE_MOVEMENT'] = azdias_copy['PRAEGENDE_JUGENDJAHRE']\n",
    "mapping_dict_decade = {1:1, 2:1, 3:2, 4:2, 5:3, 6:3, 7:3, 8:4, 9:4, 10:5, 11:5, 12:5, 13:5, 14:6, 15:6}\n",
    "mapping_dict_movement = {1:1, 2:0, 3:1, 4:0, 5:1, 6:0, 7:0, 8:1, 9:0, 10:1, 11:0, 12:1, 13:0, 14:1, 15:0}\n",
    "azdias_copy['PRAEGENDE_JUGENDJAHRE_DECADE'] = azdias_copy['PRAEGENDE_JUGENDJAHRE_DECADE'].map(mapping_dict_decade)\n",
    "azdias_copy['PRAEGENDE_JUGENDJAHRE_MOVEMENT'] = azdias_copy['PRAEGENDE_JUGENDJAHRE_MOVEMENT'].map(mapping_dict_movement)"
   ]
  },
  {
   "cell_type": "code",
   "execution_count": 57,
   "metadata": {},
   "outputs": [
    {
     "name": "stdout",
     "output_type": "stream",
     "text": [
      "6.0    231244\n",
      "4.0    179558\n",
      "5.0    151770\n",
      "3.0    116078\n",
      "2.0     75646\n",
      "1.0     28761\n",
      "Name: PRAEGENDE_JUGENDJAHRE_DECADE, dtype: int64\n",
      "1.0    607832\n",
      "0.0    175225\n",
      "Name: PRAEGENDE_JUGENDJAHRE_MOVEMENT, dtype: int64\n"
     ]
    }
   ],
   "source": [
    "# check the results\n",
    "print(azdias_copy.PRAEGENDE_JUGENDJAHRE_DECADE.value_counts())\n",
    "print(azdias_copy.PRAEGENDE_JUGENDJAHRE_MOVEMENT.value_counts())"
   ]
  },
  {
   "cell_type": "code",
   "execution_count": 58,
   "metadata": {},
   "outputs": [],
   "source": [
    "# drop the original feature\n",
    "azdias_copy.drop('PRAEGENDE_JUGENDJAHRE', axis=1, inplace=True)"
   ]
  },
  {
   "cell_type": "code",
   "execution_count": 59,
   "metadata": {},
   "outputs": [],
   "source": [
    "# Investigate \"CAMEO_INTL_2015\" and engineer two new variables.\n",
    "azdias_copy['WEALTH'] = azdias_copy['CAMEO_INTL_2015']\n",
    "azdias_copy['LIFE_STAGE'] = azdias_copy['CAMEO_INTL_2015']\n",
    "\n",
    "mapping_dict_wealth = {'11': 1.0, '12': 1.0, '13': 1.0, '14': 1.0, '15': 1.0,\n",
    "                       '21': 2.0, '22': 2.0, '23': 2.0, '24': 2.0, '25': 2.0,\n",
    "                       '31': 3.0, '32': 3.0, '33': 3.0, '34': 3.0, '35': 3.0,\n",
    "                       '41': 4.0, '42': 4.0, '43': 4.0, '44': 4.0, '45': 4.0,\n",
    "                       '51': 5.0, '52': 5.0, '53': 5.0, '54': 5.0, '55': 1.0}\n",
    "\n",
    "mapping_dict_lifestage = {'11': 1.0, '12': 2.0, '13': 3.0, '14': 4.0, '15': 5.0,\n",
    "                          '21': 1.0, '22': 2.0, '23': 3.0, '24': 4.0, '25': 5.0,\n",
    "                          '31': 1.0, '32': 2.0, '33': 3.0, '34': 4.0, '35': 5.0,\n",
    "                          '41': 1.0, '42': 2.0, '43': 3.0, '44': 4.0, '45': 5.0,\n",
    "                          '51': 1.0, '52': 2.0, '53': 3.0, '54': 4.0, '55': 5.0}\n",
    "azdias_copy['WEALTH'] = azdias_copy['WEALTH'].map(mapping_dict_wealth)\n",
    "azdias_copy['LIFE_STAGE'] = azdias_copy['LIFE_STAGE'].map(mapping_dict_lifestage)"
   ]
  },
  {
   "cell_type": "code",
   "execution_count": 60,
   "metadata": {},
   "outputs": [
    {
     "name": "stdout",
     "output_type": "stream",
     "text": [
      "5.0    199627\n",
      "2.0    190691\n",
      "4.0    189960\n",
      "1.0    143398\n",
      "3.0     68193\n",
      "Name: WEALTH, dtype: int64\n",
      "1.0    245054\n",
      "4.0    232777\n",
      "3.0    119693\n",
      "5.0    117045\n",
      "2.0     77300\n",
      "Name: LIFE_STAGE, dtype: int64\n"
     ]
    }
   ],
   "source": [
    "# check the results\n",
    "print(azdias_copy.WEALTH.value_counts())\n",
    "print(azdias_copy.LIFE_STAGE.value_counts())"
   ]
  },
  {
   "cell_type": "code",
   "execution_count": 61,
   "metadata": {},
   "outputs": [],
   "source": [
    "# drop the original feature\n",
    "azdias_copy.drop(['CAMEO_INTL_2015'], axis = 1, inplace=True)"
   ]
  },
  {
   "cell_type": "code",
   "execution_count": 62,
   "metadata": {},
   "outputs": [
    {
     "name": "stdout",
     "output_type": "stream",
     "text": [
      "0.0    604332\n",
      "1.0    186791\n",
      "Name: RURAL, dtype: int64\n",
      "3.0    249719\n",
      "4.0    135973\n",
      "2.0    100376\n",
      "5.0     74346\n",
      "1.0     43918\n",
      "Name: NEIGHBORHOOD_QUALITY, dtype: int64\n"
     ]
    }
   ],
   "source": [
    "# Investigate 'WOHNLAGE' and engineer two new variables.\n",
    "\n",
    "azdias_copy['RURAL'] = azdias_copy['WOHNLAGE']\n",
    "azdias_copy['NEIGHBORHOOD_QUALITY'] = azdias_copy['WOHNLAGE']\n",
    "\n",
    "mapping_dict_rural = {1: 0, 2: 0, 3:0, 4:0, 5:0, 7:1, 8:1}\n",
    "mapping_dict_nq = {1: 1, 2: 2, 3:3, 4:4, 5:5, 7:np.nan, 8:np.nan}\n",
    "azdias_copy['RURAL'] = azdias_copy['RURAL'].map(mapping_dict_rural)\n",
    "azdias_copy['NEIGHBORHOOD_QUALITY'] = azdias_copy['NEIGHBORHOOD_QUALITY'].map(mapping_dict_nq)\n",
    "print(azdias_copy.RURAL.value_counts())\n",
    "print(azdias_copy.NEIGHBORHOOD_QUALITY.value_counts())"
   ]
  },
  {
   "cell_type": "code",
   "execution_count": 63,
   "metadata": {},
   "outputs": [],
   "source": [
    "# drop the original feature\n",
    "azdias_copy.drop(['WOHNLAGE'], axis = 1, inplace=True)"
   ]
  },
  {
   "cell_type": "code",
   "execution_count": 64,
   "metadata": {},
   "outputs": [],
   "source": [
    "drop_mixed = ['LP_LEBENSPHASE_FEIN', 'LP_LEBENSPHASE_GROB','PLZ8_BAUMAX'] # KBA05_BAUMAX has already droped before\n",
    "for v in drop_mixed:\n",
    "    azdias_copy.drop(v, axis=1, inplace=True)"
   ]
  },
  {
   "cell_type": "code",
   "execution_count": 65,
   "metadata": {},
   "outputs": [
    {
     "data": {
      "text/plain": [
       "(891221, 79)"
      ]
     },
     "execution_count": 65,
     "metadata": {},
     "output_type": "execute_result"
    }
   ],
   "source": [
    "azdias_copy.shape"
   ]
  },
  {
   "cell_type": "markdown",
   "metadata": {},
   "source": [
    "#### Discussion 1.2.2: Engineer Mixed-Type Features\n",
    "\n",
    "- Of the seven mixed type features, I examined the three of them and engineered each into two new variables. I divided 'PRAEGENDE_JUGENDJAHRE' into DECADE and MOVEMENT based on the two dimensions: an interval-type variable for a decade, and a binary variable for movement. I also engineered 'CAMEO_INTL_2015' into two features: WEALTH and LIFE_STAGE. Besides, I found 'WOHNLAGE' is another feature good to engineer. I first separated the living area into rural or not then created another interval variable for indicating the quality level of the neighborhood in the city and make the rural as NaN. \n",
    "\n",
    "- After the processing, I dropped all three original features. I also checked the other four mixed-type features. One was already dropped, and for the other three, I also decided to drop them due to no enough levels and information to engineering those features. Finally, I got total 79 columns. "
   ]
  },
  {
   "cell_type": "markdown",
   "metadata": {},
   "source": [
    "#### Step 1.2.3: Complete Feature Selection\n",
    "\n",
    "In order to finish this step up, you need to make sure that your data frame now only has the columns that you want to keep. To summarize, the dataframe should consist of the following:\n",
    "- All numeric, interval, and ordinal type columns from the original dataset.\n",
    "- Binary categorical features (all numerically-encoded).\n",
    "- Engineered features from other multi-level categorical features and mixed features.\n",
    "\n",
    "Make sure that for any new columns that you have engineered, that you've excluded the original columns from the final dataset. Otherwise, their values will interfere with the analysis later on the project. For example, you should not keep \"PRAEGENDE_JUGENDJAHRE\", since its values won't be useful for the algorithm: only the values derived from it in the engineered features you created should be retained. As a reminder, your data should only be from **the subset with few or no missing values**."
   ]
  },
  {
   "cell_type": "code",
   "execution_count": 66,
   "metadata": {},
   "outputs": [],
   "source": [
    "# The dataframe only contains the columns that should be passed to the algorithm functions\n",
    "# and  remaining missing values will be dealed with in step 2.1."
   ]
  },
  {
   "cell_type": "markdown",
   "metadata": {},
   "source": [
    "### Step 1.3: Create a Cleaning Function\n",
    "\n",
    "Even though you've finished cleaning up the general population demographics data, it's important to look ahead to the future and realize that you'll need to perform the same cleaning steps on the customer demographics data. In this substep, complete the function below to execute the main feature selection, encoding, and re-engineering steps you performed above. Then, when it comes to looking at the customer data in Step 3, you can just run this function on that DataFrame to get the trimmed dataset in a single step."
   ]
  },
  {
   "cell_type": "code",
   "execution_count": 67,
   "metadata": {},
   "outputs": [],
   "source": [
    "def clean_data(df):\n",
    "    \"\"\"\n",
    "    Perform feature trimming, re-encoding, and engineering for demographics\n",
    "    data\n",
    "    \n",
    "    INPUT: Demographics DataFrame\n",
    "    OUTPUT: Trimmed and cleaned demographics DataFrame\n",
    "    \"\"\"\n",
    "    \n",
    "    # Put in code here to execute all main cleaning steps:\n",
    "    \n",
    "    ### Step 1: convert missing value codes into NaNs, ...\n",
    "    \n",
    "    # parse the encoded string\n",
    "    for i in range(len(feat_info)):\n",
    "        missing_or_unknown = feat_info.iloc[i]['missing_or_unknown']\n",
    "        missing_or_unknown = missing_or_unknown.strip('[').strip(']').split(',')\n",
    "        missing_or_unknown = [int(value) if (value!='X' and value!='XX' and value!='') \n",
    "                          else value for value in missing_or_unknown]\n",
    "    # mapping the values and replace with Nan\n",
    "    if missing_or_unknown != ['']:\n",
    "        df = df.replace({feat_info.iloc[i]['attribute']: missing_or_unknown}, np.nan)\n",
    "        \n",
    "    ### Step 2: remove selected columns and rows, ...\n",
    "    drop_columns = ['TITEL_KZ','AGER_TYP','KK_KUNDENTYP',\n",
    "                    'KBA05_BAUMAX','GEBURTSJAHR','ALTER_HH']\n",
    "    df.drop(drop_columns, axis=1, inplace=True)\n",
    "\n",
    "    ### Step 3: select, re-encode, and engineer column values.\n",
    "    \n",
    "    # for categorical features\n",
    "    df.ANREDE_KZ = df.ANREDE_KZ.map({2:0,1:1})\n",
    "    df.OST_WEST_KZ = df.OST_WEST_KZ.map({'W':0,'O':1})\n",
    "\n",
    "    # for mixed-type features\n",
    "    df['PRAEGENDE_JUGENDJAHRE_DECADE'] = df['PRAEGENDE_JUGENDJAHRE']\n",
    "    df['PRAEGENDE_JUGENDJAHRE_MOVEMENT'] = df['PRAEGENDE_JUGENDJAHRE']\n",
    "    mapping_dict_decade = {1:1, 2:1, 3:2, 4:2, 5:3, 6:3, 7:3, 8:4, 9:4, 10:5, 11:5, 12:5, 13:5, 14:6, 15:6}\n",
    "    mapping_dict_movement = {1:1, 2:0, 3:1, 4:0, 5:1, 6:0, 7:0, 8:1, 9:0, 10:1, 11:0, 12:1, 13:0, 14:1, 15:0}\n",
    "    df['PRAEGENDE_JUGENDJAHRE_DECADE'] = df['PRAEGENDE_JUGENDJAHRE_DECADE'].map(mapping_dict_decade)\n",
    "    df['PRAEGENDE_JUGENDJAHRE_MOVEMENT'] = df['PRAEGENDE_JUGENDJAHRE_MOVEMENT'].map(mapping_dict_movement)\n",
    "    df.drop('PRAEGENDE_JUGENDJAHRE', axis=1, inplace=True)\n",
    "    \n",
    "    df['WEALTH'] = df['CAMEO_INTL_2015']\n",
    "    df['LIFE_STAGE'] = df['CAMEO_INTL_2015']\n",
    "    mapping_dict_wealth = {'11': 1.0, '12': 1.0, '13': 1.0, '14': 1.0, '15': 1.0,\n",
    "                       '21': 2.0, '22': 2.0, '23': 2.0, '24': 2.0, '25': 2.0,\n",
    "                       '31': 3.0, '32': 3.0, '33': 3.0, '34': 3.0, '35': 3.0,\n",
    "                       '41': 4.0, '42': 4.0, '43': 4.0, '44': 4.0, '45': 4.0,\n",
    "                       '51': 5.0, '52': 5.0, '53': 5.0, '54': 5.0, '55': 1.0}\n",
    "    mapping_dict_lifestage = {'11': 1.0, '12': 2.0, '13': 3.0, '14': 4.0, '15': 5.0,\n",
    "                          '21': 1.0, '22': 2.0, '23': 3.0, '24': 4.0, '25': 5.0,\n",
    "                          '31': 1.0, '32': 2.0, '33': 3.0, '34': 4.0, '35': 5.0,\n",
    "                          '41': 1.0, '42': 2.0, '43': 3.0, '44': 4.0, '45': 5.0,\n",
    "                          '51': 1.0, '52': 2.0, '53': 3.0, '54': 4.0, '55': 5.0}\n",
    "    df['WEALTH'] = df['WEALTH'].map(mapping_dict_wealth)\n",
    "    df['LIFE_STAGE'] = df['LIFE_STAGE'].map(mapping_dict_lifestage)\n",
    "    df.drop('CAMEO_INTL_2015', axis=1, inplace=True)\n",
    "    \n",
    "    df['RURAL'] = df['WOHNLAGE']\n",
    "    df['NEIGHBORHOOD_QUALITY'] = df['WOHNLAGE']\n",
    "    mapping_dict_rural = {1: 0, 2: 0, 3:0, 4:0, 5:0, 7:1, 8:1}\n",
    "    mapping_dict_nq = {1: 1, 2: 2, 3:3, 4:4, 5:5, 7:np.nan, 8:np.nan}\n",
    "    df['RURAL'] = df['RURAL'].map(mapping_dict_rural)\n",
    "    df['NEIGHBORHOOD_QUALITY'] = df['NEIGHBORHOOD_QUALITY'].map(mapping_dict_nq)\n",
    "    df.drop(['WOHNLAGE'], axis = 1, inplace=True)\n",
    "    \n",
    "    drop_mixed = ['LP_LEBENSPHASE_FEIN', 'LP_LEBENSPHASE_GROB','PLZ8_BAUMAX'] \n",
    "    for v in drop_mixed:\n",
    "        df.drop(v, axis=1, inplace=True)\n",
    "        \n",
    "    # Return the cleaned dataframe.\n",
    "    return df\n",
    "    \n",
    "    "
   ]
  },
  {
   "cell_type": "markdown",
   "metadata": {},
   "source": [
    "## Step 2: Feature Transformation\n",
    "\n",
    "### Step 2.1: Apply Feature Scaling\n",
    "\n",
    "Before we apply dimensionality reduction techniques to the data, we need to perform feature scaling so that the principal component vectors are not influenced by the natural differences in scale for features. Starting from this part of the project, you'll want to keep an eye on the [API reference page for sklearn](http://scikit-learn.org/stable/modules/classes.html) to help you navigate to all of the classes and functions that you'll need. In this substep, you'll need to check the following:\n",
    "\n",
    "- sklearn requires that data not have missing values in order for its estimators to work properly. So, before applying the scaler to your data, make sure that you've cleaned the DataFrame of the remaining missing values. This can be as simple as just removing all data points with missing data, or applying an [Imputer](http://scikit-learn.org/stable/modules/generated/sklearn.preprocessing.Imputer.html) to replace all missing values. You might also try a more complicated procedure where you temporarily remove missing values in order to compute the scaling parameters before re-introducing those missing values and applying imputation. Think about how much missing data you have and what possible effects each approach might have on your analysis, and justify your decision in the discussion section below.\n",
    "- For the actual scaling function, a [StandardScaler](http://scikit-learn.org/stable/modules/generated/sklearn.preprocessing.StandardScaler.html) instance is suggested, scaling each feature to mean 0 and standard deviation 1.\n",
    "- For these classes, you can make use of the `.fit_transform()` method to both fit a procedure to the data as well as apply the transformation to the data at the same time. Don't forget to keep the fit sklearn objects handy, since you'll be applying them to the customer demographics data towards the end of the project."
   ]
  },
  {
   "cell_type": "code",
   "execution_count": 68,
   "metadata": {},
   "outputs": [
    {
     "data": {
      "text/plain": [
       "5227940"
      ]
     },
     "execution_count": 68,
     "metadata": {},
     "output_type": "execute_result"
    }
   ],
   "source": [
    "# If you've not yet cleaned the dataset of all NaN values, then investigate and\n",
    "# do that now.\n",
    "azdias_copy.isnull().sum().sum()"
   ]
  },
  {
   "cell_type": "code",
   "execution_count": 69,
   "metadata": {},
   "outputs": [],
   "source": [
    "# first drop the two columns discused in 1.13 which is similar in distributions and all the multi_v\n",
    "\n",
    "drop_columns2 = multi_v + ['ALTERSKATEGORIE_GROB','ANREDE_KZ']\n",
    "for v in drop_columns2:\n",
    "    azdias_copy.drop(v, axis = 1, inplace=True)"
   ]
  },
  {
   "cell_type": "code",
   "execution_count": 70,
   "metadata": {},
   "outputs": [],
   "source": [
    "# impute with the mode \n",
    "imputer = Imputer(strategy='most_frequent')\n",
    "azdias_clean = imputer.fit_transform(azdias_copy)\n",
    "# convert back to dataframe\n",
    "azdias_clean_df = pd.DataFrame(azdias_clean)"
   ]
  },
  {
   "cell_type": "code",
   "execution_count": 71,
   "metadata": {},
   "outputs": [
    {
     "data": {
      "text/plain": [
       "0"
      ]
     },
     "execution_count": 71,
     "metadata": {},
     "output_type": "execute_result"
    }
   ],
   "source": [
    "# check the result\n",
    "azdias_clean_df.isnull().sum().sum()"
   ]
  },
  {
   "cell_type": "code",
   "execution_count": 119,
   "metadata": {},
   "outputs": [],
   "source": [
    "# Apply feature scaling to the general population demographics data.\n",
    "scaler = StandardScaler() \n",
    "azdias_clean_scaled = scaler.fit_transform(azdias_clean_df)\n",
    "azdias_clean_scaled = pd.DataFrame(azdias_clean_scaled)"
   ]
  },
  {
   "cell_type": "code",
   "execution_count": 120,
   "metadata": {},
   "outputs": [
    {
     "data": {
      "text/plain": [
       "(891221, 62)"
      ]
     },
     "execution_count": 120,
     "metadata": {},
     "output_type": "execute_result"
    }
   ],
   "source": [
    "azdias_clean_scaled.shape"
   ]
  },
  {
   "cell_type": "markdown",
   "metadata": {},
   "source": [
    "### Discussion 2.1: Apply Feature Scaling\n",
    "\n",
    "- Before applying feature scaling, the first thing is that all the missing values should be cleaned from the data frame. Thus, I removed the two columns discussed in 1.13 which is similar in distributions but containing many missing values as well as all the multi-level categoricals due to unclear discriptions. Second, I chose to impute all the other missing values with the mode, that is the most frequent value in each column. I used the mode rather than mean or median because most features in this dataset are categorical even in a numerical way. Thus the most frequent value should be the most representative one in the feature. \n",
    "\n",
    "- For the actual scaling function, I used StandardScaler to achieve a mean of 0 and a standard deviation of 1."
   ]
  },
  {
   "cell_type": "markdown",
   "metadata": {},
   "source": [
    "### Step 2.2: Perform Dimensionality Reduction\n",
    "\n",
    "On your scaled data, you are now ready to apply dimensionality reduction techniques.\n",
    "\n",
    "- Use sklearn's [PCA](http://scikit-learn.org/stable/modules/generated/sklearn.decomposition.PCA.html) class to apply principal component analysis on the data, thus finding the vectors of maximal variance in the data. To start, you should not set any parameters (so all components are computed) or set a number of components that is at least half the number of features (so there's enough features to see the general trend in variability).\n",
    "- Check out the ratio of variance explained by each principal component as well as the cumulative variance explained. Try plotting the cumulative or sequential values using matplotlib's [`plot()`](https://matplotlib.org/api/_as_gen/matplotlib.pyplot.plot.html) function. Based on what you find, select a value for the number of transformed features you'll retain for the clustering part of the project.\n",
    "- Once you've made a choice for the number of components to keep, make sure you re-fit a PCA instance to perform the decided-on transformation."
   ]
  },
  {
   "cell_type": "code",
   "execution_count": 74,
   "metadata": {},
   "outputs": [
    {
     "data": {
      "text/plain": [
       "PCA(copy=True, iterated_power='auto', n_components=None, random_state=None,\n",
       "  svd_solver='auto', tol=0.0, whiten=False)"
      ]
     },
     "execution_count": 74,
     "metadata": {},
     "output_type": "execute_result"
    }
   ],
   "source": [
    "# Apply PCA to the data.\n",
    "pca = PCA()\n",
    "pca.fit(azdias_clean_scaled)"
   ]
  },
  {
   "cell_type": "code",
   "execution_count": 75,
   "metadata": {},
   "outputs": [
    {
     "name": "stdout",
     "output_type": "stream",
     "text": [
      "[  1.67793082e-01   1.21902562e-01   8.64168973e-02   5.50591301e-02\n",
      "   4.77401841e-02   3.41920334e-02   3.11499467e-02   2.76123290e-02\n",
      "   2.46962029e-02   2.18210141e-02   2.10107700e-02   2.03228365e-02\n",
      "   1.92523296e-02   1.80006059e-02   1.72111705e-02   1.67556319e-02\n",
      "   1.57100325e-02   1.41490010e-02   1.36473121e-02   1.28287717e-02\n",
      "   1.23554019e-02   1.19802931e-02   1.13137253e-02   1.09110780e-02\n",
      "   1.04224890e-02   9.88261329e-03   8.87135154e-03   7.48414850e-03\n",
      "   7.32581621e-03   6.91291008e-03   6.70657392e-03   6.56252213e-03\n",
      "   6.45648378e-03   6.21165810e-03   5.98747817e-03   5.59975275e-03\n",
      "   5.18343928e-03   4.98054165e-03   4.66480628e-03   4.50891096e-03\n",
      "   4.43968685e-03   4.12906878e-03   3.83306610e-03   3.77487569e-03\n",
      "   3.62638122e-03   3.44407346e-03   3.24549596e-03   3.23687624e-03\n",
      "   3.01809313e-03   2.97002481e-03   2.78429685e-03   2.71260975e-03\n",
      "   2.50271203e-03   2.31462324e-03   2.11771968e-03   2.07297875e-03\n",
      "   1.91759336e-03   1.75492338e-03   1.67792354e-03   1.54497142e-03\n",
      "   1.28816860e-03   3.30913505e-32]\n",
      "[ 0.16779308  0.28969564  0.37611254  0.43117167  0.47891186  0.51310389\n",
      "  0.54425384  0.57186616  0.59656237  0.61838338  0.63939415  0.65971699\n",
      "  0.67896932  0.69696992  0.71418109  0.73093673  0.74664676  0.76079576\n",
      "  0.77444307  0.78727184  0.79962725  0.81160754  0.82292126  0.83383234\n",
      "  0.84425483  0.85413744  0.8630088   0.87049294  0.87781876  0.88473167\n",
      "  0.89143824  0.89800077  0.90445725  0.91066891  0.91665639  0.92225614\n",
      "  0.92743958  0.93242012  0.93708493  0.94159384  0.94603352  0.95016259\n",
      "  0.95399566  0.95777053  0.96139692  0.96484099  0.96808649  0.97132336\n",
      "  0.97434145  0.97731148  0.98009578  0.98280839  0.9853111   0.98762572\n",
      "  0.98974344  0.99181642  0.99373401  0.99548894  0.99716686  0.99871183\n",
      "  1.          1.        ]\n"
     ]
    }
   ],
   "source": [
    "# Investigate the variance accounted for by each principal component.\n",
    "print(pca.explained_variance_ratio_)\n",
    "print(pca.explained_variance_ratio_.cumsum())"
   ]
  },
  {
   "cell_type": "code",
   "execution_count": 76,
   "metadata": {},
   "outputs": [
    {
     "data": {
      "text/plain": [
       "Text(0,0.5,'Variance explained Ratio')"
      ]
     },
     "execution_count": 76,
     "metadata": {},
     "output_type": "execute_result"
    },
    {
     "data": {
      "image/png": "[encoded data removed]",
      "text/plain": [
       "<matplotlib.figure.Figure at 0x7f1eb970c5c0>"
      ]
     },
     "metadata": {
      "needs_background": "light"
     },
     "output_type": "display_data"
    }
   ],
   "source": [
    "plt.plot(range(len(pca.explained_variance_ratio_)),pca.explained_variance_ratio_.cumsum())\n",
    "plt.xlabel('Components No.')\n",
    "plt.ylabel('Variance explained Ratio')"
   ]
  },
  {
   "cell_type": "code",
   "execution_count": 121,
   "metadata": {},
   "outputs": [],
   "source": [
    "# Re-apply PCA to the data while selecting for number of components to retain.\n",
    "pca = PCA(n_components=45)\n",
    "final_features = pca.fit_transform(azdias_clean_scaled)"
   ]
  },
  {
   "cell_type": "code",
   "execution_count": 78,
   "metadata": {},
   "outputs": [
    {
     "data": {
      "text/plain": [
       "(891221, 45)"
      ]
     },
     "execution_count": 78,
     "metadata": {},
     "output_type": "execute_result"
    }
   ],
   "source": [
    "final_features.shape"
   ]
  },
  {
   "cell_type": "code",
   "execution_count": 79,
   "metadata": {},
   "outputs": [
    {
     "data": {
      "text/plain": [
       "Text(0,0.5,'Variance explained Ratio')"
      ]
     },
     "execution_count": 79,
     "metadata": {},
     "output_type": "execute_result"
    },
    {
     "data": {
      "image/png": "[encoded data removed]",
      "text/plain": [
       "<matplotlib.figure.Figure at 0x7f1eb82f3898>"
      ]
     },
     "metadata": {
      "needs_background": "light"
     },
     "output_type": "display_data"
    }
   ],
   "source": [
    "plt.plot(range(len(pca.explained_variance_ratio_)),pca.explained_variance_ratio_.cumsum())\n",
    "plt.xlabel('Components No.')\n",
    "plt.ylabel('Variance explained Ratio')"
   ]
  },
  {
   "cell_type": "markdown",
   "metadata": {},
   "source": [
    "### Discussion 2.2: Perform Dimensionality Reduction\n",
    "\n",
    "- After the first PCA, I found that around 40 components are a good number to choose to redo the PCA.  Thus I chose the 45 components to redo PCA. From the graph above, it is clear that the 45 components could explain almost 95% of all the variance.\n"
   ]
  },
  {
   "cell_type": "markdown",
   "metadata": {},
   "source": [
    "### Step 2.3: Interpret Principal Components\n",
    "\n",
    "Now that we have our transformed principal components, it's a nice idea to check out the weight of each variable on the first few components to see if they can be interpreted in some fashion.\n",
    "\n",
    "As a reminder, each principal component is a unit vector that points in the direction of highest variance (after accounting for the variance captured by earlier principal components). The further a weight is from zero, the more the principal component is in the direction of the corresponding feature. If two features have large weights of the same sign (both positive or both negative), then increases in one tend expect to be associated with increases in the other. To contrast, features with different signs can be expected to show a negative correlation: increases in one variable should result in a decrease in the other.\n",
    "\n",
    "- To investigate the features, you should map each weight to their corresponding feature name, then sort the features according to weight. The most interesting features for each principal component, then, will be those at the beginning and end of the sorted list. Use the data dictionary document to help you understand these most prominent features, their relationships, and what a positive or negative value on the principal component might indicate.\n",
    "- You should investigate and interpret feature associations from the first three principal components in this substep. To help facilitate this, you should write a function that you can call at any time to print the sorted list of feature weights, for the *i*-th principal component. This might come in handy in the next step of the project, when you interpret the tendencies of the discovered clusters."
   ]
  },
  {
   "cell_type": "code",
   "execution_count": 80,
   "metadata": {},
   "outputs": [
    {
     "data": {
      "text/plain": [
       "(45, 62)"
      ]
     },
     "execution_count": 80,
     "metadata": {},
     "output_type": "execute_result"
    }
   ],
   "source": [
    "pca.components_.shape"
   ]
  },
  {
   "cell_type": "code",
   "execution_count": 81,
   "metadata": {},
   "outputs": [],
   "source": [
    "# Reference: original functions provided in the helper_functions.py in course\n",
    "\n",
    "def do_pca(n_components, data):\n",
    "    X = StandardScaler().fit_transform(data)\n",
    "    pca = PCA(n_components)\n",
    "    X_pca = pca.fit_transform(X)\n",
    "    return pca, X_pca\n",
    "\n",
    "def pca_results(full_dataset, pca):\n",
    "    # Dimension indexing\n",
    "    dimensions = dimensions = ['Dimension {}'.format(i) for i in range(1,len(pca.components_)+1)]\n",
    "\n",
    "    # PCA components\n",
    "    components = pd.DataFrame(np.round(pca.components_, 4), columns = full_dataset.keys())\n",
    "    components.index = dimensions\n",
    "    \n",
    "    # PCA explained variance\n",
    "    ratios = pca.explained_variance_ratio_.reshape(len(pca.components_), 1)\n",
    "    variance_ratios = pd.DataFrame(np.round(ratios, 4), columns = ['Explained Variance'])\n",
    "    variance_ratios.index = dimensions\n",
    "    # Create a bar plot visualization\n",
    "    fig, ax = plt.subplots(figsize = (14,8))\n",
    "    # Plot the feature weights as a function of the components\n",
    "    components.plot(ax = ax, kind = 'bar');\n",
    "    ax.set_ylabel(\"Feature Weights\")\n",
    "    ax.set_xticklabels(dimensions, rotation=0)\n",
    "    \n",
    "    # Display the explained variance ratios\n",
    "    for i, ev in enumerate(pca.explained_variance_ratio_):\n",
    "        ax.text(i-0.40, ax.get_ylim()[1] + 0.05, \"Explained Variance\\n          %.4f\"%(ev))\n",
    "    \n",
    "    # Return a concatenated DataFrame\n",
    "    return pd.concat([variance_ratios, components], axis = 1)\n"
   ]
  },
  {
   "cell_type": "code",
   "execution_count": 82,
   "metadata": {},
   "outputs": [],
   "source": [
    "pca, X_pca = do_pca(4, azdias_clean_scaled)"
   ]
  },
  {
   "cell_type": "code",
   "execution_count": 83,
   "metadata": {},
   "outputs": [
    {
     "data": {
      "text/html": [
       "<div>\n",
       "<style>\n",
       "    .dataframe thead tr:only-child th {\n",
       "        text-align: right;\n",
       "    }\n",
       "\n",
       "    .dataframe thead th {\n",
       "        text-align: left;\n",
       "    }\n",
       "\n",
       "    .dataframe tbody tr th {\n",
       "        vertical-align: top;\n",
       "    }\n",
       "</style>\n",
       "<table border=\"1\" class=\"dataframe\">\n",
       "  <thead>\n",
       "    <tr style=\"text-align: right;\">\n",
       "      <th></th>\n",
       "      <th>Explained Variance</th>\n",
       "      <th>FINANZ_MINIMALIST</th>\n",
       "      <th>FINANZ_SPARER</th>\n",
       "      <th>FINANZ_VORSORGER</th>\n",
       "      <th>FINANZ_ANLEGER</th>\n",
       "      <th>FINANZ_UNAUFFAELLIGER</th>\n",
       "      <th>FINANZ_HAUSBAUER</th>\n",
       "      <th>GREEN_AVANTGARDE</th>\n",
       "      <th>HEALTH_TYP</th>\n",
       "      <th>RETOURTYP_BK_S</th>\n",
       "      <th>...</th>\n",
       "      <th>PLZ8_GBZ</th>\n",
       "      <th>ARBEIT</th>\n",
       "      <th>ORTSGR_KLS9</th>\n",
       "      <th>RELAT_AB</th>\n",
       "      <th>PRAEGENDE_JUGENDJAHRE_DECADE</th>\n",
       "      <th>PRAEGENDE_JUGENDJAHRE_MOVEMENT</th>\n",
       "      <th>WEALTH</th>\n",
       "      <th>LIFE_STAGE</th>\n",
       "      <th>RURAL</th>\n",
       "      <th>NEIGHBORHOOD_QUALITY</th>\n",
       "    </tr>\n",
       "  </thead>\n",
       "  <tbody>\n",
       "    <tr>\n",
       "      <th>Dimension 1</th>\n",
       "      <td>0.1678</td>\n",
       "      <td>-0.2135</td>\n",
       "      <td>0.1532</td>\n",
       "      <td>-0.1138</td>\n",
       "      <td>0.0889</td>\n",
       "      <td>0.0971</td>\n",
       "      <td>0.1523</td>\n",
       "      <td>-0.1166</td>\n",
       "      <td>0.0564</td>\n",
       "      <td>-0.0181</td>\n",
       "      <td>...</td>\n",
       "      <td>-0.1695</td>\n",
       "      <td>0.1577</td>\n",
       "      <td>0.1993</td>\n",
       "      <td>0.1367</td>\n",
       "      <td>0.1176</td>\n",
       "      <td>0.1166</td>\n",
       "      <td>0.2005</td>\n",
       "      <td>-0.1429</td>\n",
       "      <td>-0.1587</td>\n",
       "      <td>0.0895</td>\n",
       "    </tr>\n",
       "    <tr>\n",
       "      <th>Dimension 2</th>\n",
       "      <td>0.1219</td>\n",
       "      <td>0.0826</td>\n",
       "      <td>-0.2656</td>\n",
       "      <td>0.2568</td>\n",
       "      <td>-0.2485</td>\n",
       "      <td>-0.2550</td>\n",
       "      <td>0.1228</td>\n",
       "      <td>0.0110</td>\n",
       "      <td>-0.0841</td>\n",
       "      <td>0.1818</td>\n",
       "      <td>...</td>\n",
       "      <td>-0.0745</td>\n",
       "      <td>0.0593</td>\n",
       "      <td>0.1173</td>\n",
       "      <td>0.0791</td>\n",
       "      <td>-0.2717</td>\n",
       "      <td>-0.0110</td>\n",
       "      <td>0.0193</td>\n",
       "      <td>0.0320</td>\n",
       "      <td>-0.0708</td>\n",
       "      <td>0.0165</td>\n",
       "    </tr>\n",
       "    <tr>\n",
       "      <th>Dimension 3</th>\n",
       "      <td>0.0864</td>\n",
       "      <td>0.0834</td>\n",
       "      <td>-0.0498</td>\n",
       "      <td>0.0204</td>\n",
       "      <td>-0.1705</td>\n",
       "      <td>-0.0951</td>\n",
       "      <td>-0.0283</td>\n",
       "      <td>0.0785</td>\n",
       "      <td>-0.0753</td>\n",
       "      <td>0.0537</td>\n",
       "      <td>...</td>\n",
       "      <td>-0.0395</td>\n",
       "      <td>0.0016</td>\n",
       "      <td>0.0756</td>\n",
       "      <td>0.0425</td>\n",
       "      <td>-0.0698</td>\n",
       "      <td>-0.0785</td>\n",
       "      <td>-0.0348</td>\n",
       "      <td>0.0486</td>\n",
       "      <td>-0.0120</td>\n",
       "      <td>0.0260</td>\n",
       "    </tr>\n",
       "    <tr>\n",
       "      <th>Dimension 4</th>\n",
       "      <td>0.0551</td>\n",
       "      <td>0.0034</td>\n",
       "      <td>0.0311</td>\n",
       "      <td>-0.0611</td>\n",
       "      <td>-0.0763</td>\n",
       "      <td>0.0695</td>\n",
       "      <td>-0.0732</td>\n",
       "      <td>0.3836</td>\n",
       "      <td>0.0006</td>\n",
       "      <td>-0.0448</td>\n",
       "      <td>...</td>\n",
       "      <td>0.0421</td>\n",
       "      <td>0.0380</td>\n",
       "      <td>0.2415</td>\n",
       "      <td>0.0950</td>\n",
       "      <td>0.0510</td>\n",
       "      <td>-0.3836</td>\n",
       "      <td>-0.1336</td>\n",
       "      <td>0.1013</td>\n",
       "      <td>-0.2047</td>\n",
       "      <td>-0.1496</td>\n",
       "    </tr>\n",
       "  </tbody>\n",
       "</table>\n",
       "<p>4 rows × 63 columns</p>\n",
       "</div>"
      ],
      "text/plain": [
       "             Explained Variance  FINANZ_MINIMALIST  FINANZ_SPARER  \\\n",
       "Dimension 1              0.1678            -0.2135         0.1532   \n",
       "Dimension 2              0.1219             0.0826        -0.2656   \n",
       "Dimension 3              0.0864             0.0834        -0.0498   \n",
       "Dimension 4              0.0551             0.0034         0.0311   \n",
       "\n",
       "             FINANZ_VORSORGER  FINANZ_ANLEGER  FINANZ_UNAUFFAELLIGER  \\\n",
       "Dimension 1           -0.1138          0.0889                 0.0971   \n",
       "Dimension 2            0.2568         -0.2485                -0.2550   \n",
       "Dimension 3            0.0204         -0.1705                -0.0951   \n",
       "Dimension 4           -0.0611         -0.0763                 0.0695   \n",
       "\n",
       "             FINANZ_HAUSBAUER  GREEN_AVANTGARDE  HEALTH_TYP  RETOURTYP_BK_S  \\\n",
       "Dimension 1            0.1523           -0.1166      0.0564         -0.0181   \n",
       "Dimension 2            0.1228            0.0110     -0.0841          0.1818   \n",
       "Dimension 3           -0.0283            0.0785     -0.0753          0.0537   \n",
       "Dimension 4           -0.0732            0.3836      0.0006         -0.0448   \n",
       "\n",
       "                     ...           PLZ8_GBZ  ARBEIT  ORTSGR_KLS9  RELAT_AB  \\\n",
       "Dimension 1          ...            -0.1695  0.1577       0.1993    0.1367   \n",
       "Dimension 2          ...            -0.0745  0.0593       0.1173    0.0791   \n",
       "Dimension 3          ...            -0.0395  0.0016       0.0756    0.0425   \n",
       "Dimension 4          ...             0.0421  0.0380       0.2415    0.0950   \n",
       "\n",
       "             PRAEGENDE_JUGENDJAHRE_DECADE  PRAEGENDE_JUGENDJAHRE_MOVEMENT  \\\n",
       "Dimension 1                        0.1176                          0.1166   \n",
       "Dimension 2                       -0.2717                         -0.0110   \n",
       "Dimension 3                       -0.0698                         -0.0785   \n",
       "Dimension 4                        0.0510                         -0.3836   \n",
       "\n",
       "             WEALTH  LIFE_STAGE   RURAL  NEIGHBORHOOD_QUALITY  \n",
       "Dimension 1  0.2005     -0.1429 -0.1587                0.0895  \n",
       "Dimension 2  0.0193      0.0320 -0.0708                0.0165  \n",
       "Dimension 3 -0.0348      0.0486 -0.0120                0.0260  \n",
       "Dimension 4 -0.1336      0.1013 -0.2047               -0.1496  \n",
       "\n",
       "[4 rows x 63 columns]"
      ]
     },
     "execution_count": 83,
     "metadata": {},
     "output_type": "execute_result"
    },
    {
     "data": {
      "image/png": "[encoded data removed]",
      "text/plain": [
       "<matplotlib.figure.Figure at 0x7f1eb82eb208>"
      ]
     },
     "metadata": {
      "needs_background": "light"
     },
     "output_type": "display_data"
    }
   ],
   "source": [
    "pca_results(azdias_copy, pca)"
   ]
  },
  {
   "cell_type": "code",
   "execution_count": 84,
   "metadata": {},
   "outputs": [
    {
     "name": "stdout",
     "output_type": "stream",
     "text": [
      "PLZ8_ANTG3                        0.233226\n",
      "EWDICHTE                          0.210836\n",
      "WEALTH                            0.200454\n",
      "ORTSGR_KLS9                       0.199288\n",
      "PLZ8_ANTG4                        0.186127\n",
      "PLZ8_ANTG2                        0.159956\n",
      "ARBEIT                            0.157676\n",
      "FINANZ_SPARER                     0.153154\n",
      "FINANZ_HAUSBAUER                  0.152348\n",
      "HH_EINKOMMEN_SCORE                0.150732\n",
      "KBA05_ANTG4                       0.140160\n",
      "RELAT_AB                          0.136694\n",
      "ANZ_HAUSHALTE_AKTIV               0.121134\n",
      "SEMIO_REL                         0.120528\n",
      "KBA05_ANTG3                       0.118996\n",
      "PRAEGENDE_JUGENDJAHRE_DECADE      0.117586\n",
      "PRAEGENDE_JUGENDJAHRE_MOVEMENT    0.116646\n",
      "SEMIO_PFLICHT                     0.116332\n",
      "FINANZ_UNAUFFAELLIGER             0.097107\n",
      "SEMIO_RAT                         0.093645\n",
      "NEIGHBORHOOD_QUALITY              0.089459\n",
      "FINANZ_ANLEGER                    0.088936\n",
      "SEMIO_MAT                         0.083621\n",
      "SEMIO_FAM                         0.081749\n",
      "REGIOTYP                          0.078284\n",
      "SEMIO_TRADV                       0.071401\n",
      "SEMIO_KAEM                        0.068014\n",
      "W_KEIT_KIND_HH                    0.057442\n",
      "HEALTH_TYP                        0.056424\n",
      "SEMIO_DOM                         0.048053\n",
      "                                    ...   \n",
      "SEMIO_KRIT                        0.041080\n",
      "OST_WEST_KZ                       0.036507\n",
      "PLZ8_HHZ                          0.031323\n",
      "ANZ_HH_TITEL                      0.029573\n",
      "SEMIO_SOZ                         0.007201\n",
      "ANZ_TITEL                        -0.005290\n",
      "KBA05_ANTG2                      -0.008515\n",
      "KBA13_ANZAHL_PKW                 -0.016757\n",
      "RETOURTYP_BK_S                   -0.018126\n",
      "WOHNDAUER_2008                   -0.044726\n",
      "MIN_GEBAEUDEJAHR                 -0.049855\n",
      "ONLINE_AFFINITAET                -0.050437\n",
      "SEMIO_LUST                       -0.060565\n",
      "SEMIO_VERT                       -0.073191\n",
      "SEMIO_ERL                        -0.077445\n",
      "ANZ_PERSONEN                     -0.090406\n",
      "BALLRAUM                         -0.105280\n",
      "GEBAEUDETYP_RASTER               -0.109003\n",
      "FINANZ_VORSORGER                 -0.113842\n",
      "GREEN_AVANTGARDE                 -0.116646\n",
      "LIFE_STAGE                       -0.142934\n",
      "RURAL                            -0.158707\n",
      "INNENSTADT                       -0.160958\n",
      "PLZ8_GBZ                         -0.169498\n",
      "KONSUMNAEHE                      -0.180773\n",
      "FINANZ_MINIMALIST                -0.213537\n",
      "KBA05_GBZ                        -0.216709\n",
      "KBA05_ANTG1                      -0.222917\n",
      "PLZ8_ANTG1                       -0.229659\n",
      "MOBI_REGIO                       -0.232471\n",
      "Name: 0, Length: 62, dtype: float64\n"
     ]
    }
   ],
   "source": [
    "# Map weights for the first principal component to corresponding feature names\n",
    "# and then print the linked values, sorted by weight.\n",
    "weight_1 = pd.DataFrame(pca.components_, columns=list(azdias_copy.columns)).iloc[0].sort_values(ascending=False)\n",
    "print(weight_1)"
   ]
  },
  {
   "cell_type": "code",
   "execution_count": 85,
   "metadata": {},
   "outputs": [
    {
     "name": "stdout",
     "output_type": "stream",
     "text": [
      "FINANZ_VORSORGER                  0.256825\n",
      "SEMIO_ERL                         0.221783\n",
      "RETOURTYP_BK_S                    0.181775\n",
      "SEMIO_LUST                        0.180315\n",
      "PLZ8_ANTG4                        0.124669\n",
      "FINANZ_HAUSBAUER                  0.122768\n",
      "ORTSGR_KLS9                       0.117272\n",
      "W_KEIT_KIND_HH                    0.098108\n",
      "PLZ8_ANTG3                        0.097845\n",
      "KBA05_ANTG4                       0.090579\n",
      "ANZ_HAUSHALTE_AKTIV               0.082760\n",
      "FINANZ_MINIMALIST                 0.082615\n",
      "HH_EINKOMMEN_SCORE                0.080199\n",
      "EWDICHTE                          0.079510\n",
      "RELAT_AB                          0.079113\n",
      "PLZ8_ANTG2                        0.068976\n",
      "KBA05_ANTG3                       0.064757\n",
      "ARBEIT                            0.059275\n",
      "SEMIO_KAEM                        0.054652\n",
      "WOHNDAUER_2008                    0.051785\n",
      "SEMIO_KRIT                        0.048109\n",
      "OST_WEST_KZ                       0.042123\n",
      "ANZ_HH_TITEL                      0.040145\n",
      "PLZ8_HHZ                          0.032806\n",
      "LIFE_STAGE                        0.032029\n",
      "SEMIO_DOM                         0.022785\n",
      "KBA05_ANTG2                       0.020647\n",
      "WEALTH                            0.019262\n",
      "NEIGHBORHOOD_QUALITY              0.016455\n",
      "ANZ_TITEL                         0.011109\n",
      "                                    ...   \n",
      "PRAEGENDE_JUGENDJAHRE_MOVEMENT   -0.011004\n",
      "REGIOTYP                         -0.014429\n",
      "KKK                              -0.014791\n",
      "SEMIO_SOZ                        -0.043293\n",
      "ANZ_PERSONEN                     -0.046704\n",
      "MIN_GEBAEUDEJAHR                 -0.047304\n",
      "KBA05_ANTG1                      -0.047410\n",
      "MOBI_REGIO                       -0.047425\n",
      "KONSUMNAEHE                      -0.048298\n",
      "GEBAEUDETYP_RASTER               -0.060515\n",
      "RURAL                            -0.070829\n",
      "PLZ8_GBZ                         -0.074512\n",
      "KBA13_ANZAHL_PKW                 -0.078869\n",
      "HEALTH_TYP                       -0.084075\n",
      "KBA05_GBZ                        -0.093985\n",
      "BALLRAUM                         -0.095330\n",
      "PLZ8_ANTG1                       -0.098374\n",
      "INNENSTADT                       -0.099321\n",
      "ONLINE_AFFINITAET                -0.164066\n",
      "SEMIO_MAT                        -0.172162\n",
      "SEMIO_FAM                        -0.174405\n",
      "SEMIO_KULT                       -0.178486\n",
      "SEMIO_RAT                        -0.196342\n",
      "SEMIO_TRADV                      -0.229144\n",
      "SEMIO_PFLICHT                    -0.246278\n",
      "FINANZ_ANLEGER                   -0.248468\n",
      "FINANZ_UNAUFFAELLIGER            -0.255002\n",
      "SEMIO_REL                        -0.258297\n",
      "FINANZ_SPARER                    -0.265627\n",
      "PRAEGENDE_JUGENDJAHRE_DECADE     -0.271675\n",
      "Name: 1, Length: 62, dtype: float64\n"
     ]
    }
   ],
   "source": [
    "# Map weights for the second principal component to corresponding feature names\n",
    "# and then print the linked values, sorted by weight.\n",
    "weight_2 = pd.DataFrame(pca.components_, columns=list(azdias_copy.columns)).iloc[1].sort_values(ascending=False)\n",
    "print(weight_2)"
   ]
  },
  {
   "cell_type": "code",
   "execution_count": 86,
   "metadata": {},
   "outputs": [
    {
     "name": "stdout",
     "output_type": "stream",
     "text": [
      "SEMIO_VERT                        0.368006\n",
      "SEMIO_SOZ                         0.325145\n",
      "SEMIO_KULT                        0.316766\n",
      "SEMIO_FAM                         0.235375\n",
      "PLZ8_ANTG4                        0.113948\n",
      "SEMIO_MAT                         0.086391\n",
      "FINANZ_MINIMALIST                 0.083369\n",
      "GREEN_AVANTGARDE                  0.078530\n",
      "ORTSGR_KLS9                       0.075567\n",
      "SEMIO_REL                         0.070046\n",
      "HH_EINKOMMEN_SCORE                0.065819\n",
      "ANZ_HAUSHALTE_AKTIV               0.062470\n",
      "KBA05_ANTG4                       0.061370\n",
      "OST_WEST_KZ                       0.055539\n",
      "RETOURTYP_BK_S                    0.053677\n",
      "KBA05_ANTG3                       0.051218\n",
      "LIFE_STAGE                        0.048614\n",
      "KBA05_ANTG2                       0.047518\n",
      "ANZ_PERSONEN                      0.042994\n",
      "RELAT_AB                          0.042485\n",
      "SEMIO_TRADV                       0.041532\n",
      "PLZ8_ANTG3                        0.039979\n",
      "PLZ8_HHZ                          0.036923\n",
      "MOBI_REGIO                        0.030431\n",
      "NEIGHBORHOOD_QUALITY              0.026048\n",
      "PLZ8_ANTG2                        0.025446\n",
      "ANZ_HH_TITEL                      0.024986\n",
      "KBA05_ANTG1                       0.021896\n",
      "FINANZ_VORSORGER                  0.020402\n",
      "KONSUMNAEHE                       0.018647\n",
      "                                    ...   \n",
      "ARBEIT                            0.001574\n",
      "EWDICHTE                         -0.000324\n",
      "MIN_GEBAEUDEJAHR                 -0.001532\n",
      "SEMIO_PFLICHT                    -0.006460\n",
      "RURAL                            -0.012010\n",
      "W_KEIT_KIND_HH                   -0.014310\n",
      "SEMIO_LUST                       -0.025257\n",
      "WOHNDAUER_2008                   -0.027538\n",
      "FINANZ_HAUSBAUER                 -0.028288\n",
      "KBA05_GBZ                        -0.032638\n",
      "WEALTH                           -0.034790\n",
      "PLZ8_GBZ                         -0.039493\n",
      "KKK                              -0.039827\n",
      "FINANZ_SPARER                    -0.049834\n",
      "PLZ8_ANTG1                       -0.050172\n",
      "GEBAEUDETYP_RASTER               -0.059905\n",
      "REGIOTYP                         -0.061097\n",
      "PRAEGENDE_JUGENDJAHRE_DECADE     -0.069778\n",
      "INNENSTADT                       -0.075086\n",
      "HEALTH_TYP                       -0.075252\n",
      "PRAEGENDE_JUGENDJAHRE_MOVEMENT   -0.078530\n",
      "FINANZ_UNAUFFAELLIGER            -0.095091\n",
      "BALLRAUM                         -0.097090\n",
      "KBA13_ANZAHL_PKW                 -0.127258\n",
      "SEMIO_RAT                        -0.129782\n",
      "FINANZ_ANLEGER                   -0.170519\n",
      "SEMIO_ERL                        -0.194792\n",
      "SEMIO_DOM                        -0.333820\n",
      "SEMIO_KRIT                       -0.341425\n",
      "SEMIO_KAEM                       -0.362792\n",
      "Name: 2, Length: 62, dtype: float64\n"
     ]
    }
   ],
   "source": [
    "# Map weights for the third principal component to corresponding feature names\n",
    "# and then print the linked values, sorted by weight.\n",
    "weight_3 = pd.DataFrame(pca.components_, columns=list(azdias_copy.columns)).iloc[2].sort_values(ascending=False)\n",
    "print(weight_3)\n"
   ]
  },
  {
   "cell_type": "markdown",
   "metadata": {},
   "source": [
    "### Discussion 2.3: Interpret Principal Components\n",
    "\n",
    "- To investigate the features, I mapped each weight to their corresponding feature name, then sort the features according to weight by the graphs, which gives us a general idea of the components and their contributions. However, due to the high number of features, it's not very straightforward in the visualization graph. Then I simply calculated them and displayed as a decreasing order list.  \n",
    "\n",
    "### The first principle component: \n",
    "\n",
    "Positively weights: \n",
    "- PLZ8_ANTG3 (0.233226): number of 6-10 family houses in particular region (middle-size family)\n",
    "- EWDICHTE (0.210836): density of households per square kilometer\n",
    "- WEALTH (0.200454): wealth levels of households\n",
    "\n",
    "Negatively weights:\n",
    "\n",
    "- FINANZ_MINIMALIST (-0.213537): financial typology (low financial interest)\n",
    "- KBA05_GBZ (-0.216709): number of building in the microcell\n",
    "- KBA05_ANTG1 (-0.222917): number of 1-2 family houses in the microcell\n",
    "- PLZ8_ANTG1 (-0.229659): number of 1-2 family houses in particular region\n",
    "- MOBI_REGIO (-0.232471): movement patterns\n",
    "\n",
    "The first principle component is mainly related to family size and household density. The financial typology and wealth of the household also make an impact on that. \n",
    "\n",
    "### The second principle component:\n",
    "\n",
    "Positively weights: \n",
    "- FINANZ_VORSORGER (0.256825): financial typology (be prepared)\n",
    "- SEMIO_ERL (0.221783): Personality typology (event-oriented)\n",
    "\n",
    "Negatively weights:\n",
    "- SEMIO_TRADV (-0.229144): Personality typology (traditional-minded)\n",
    "- SEMIO_PFLICHT (-0.246278): Personality typology (dutiful)\n",
    "- FINANZ_ANLEGER (-0.248468):  financial typology (investor)\n",
    "- FINANZ_UNAUFFAELLIGER (-0.255002):  financial typology (inconspicious)\n",
    "- SEMIO_REL (-0.258297): Personality typology (religious)\n",
    "- FINANZ_SPARER (-0.265627):  financial typology (money-saver)\n",
    "- PRAEGENDE_JUGENDJAHRE_DECADE (-0.271675): dominating movement of person's youth\n",
    "\n",
    "The second principal component is about financial typology and personality typology. The people with a be-prepared financial mindset and event-oriented personality have positive relations.\n",
    "\n",
    "\n",
    "### The third principle component:\n",
    "\n",
    "Positively weights: \n",
    "- SEMIO_VERT (0.368006): Personality typology (dreamful)\n",
    "- SEMIO_SOZ (0.325145): Personality typology (socially-minded)\n",
    "- SEMIO_KULT (0.316766): Personality typology (cultural-minded)\n",
    "- SEMIO_FAM (0.235375): Personality typology (family-minded)\n",
    "\n",
    "Negatively weights:\n",
    "- SEMIO_DOM (-0.333820): Personality typology (dominated-minded)\n",
    "- SEMIO_KRIT (-0.341425): Personality typology (critical-minded)\n",
    "- SEMIO_KAEM (-0.362792): Personality typology (combative-minded)\n",
    "\n",
    "\n",
    "The third principal component is all about a person's personality typology. People with more social, cultural, dreamful personalities indicate positive values, while people with more dominated, critical and combative mindset have negative values. \n",
    "\n"
   ]
  },
  {
   "cell_type": "markdown",
   "metadata": {},
   "source": [
    "## Step 3: Clustering\n",
    "\n",
    "### Step 3.1: Apply Clustering to General Population\n",
    "\n",
    "You've assessed and cleaned the demographics data, then scaled and transformed them. Now, it's time to see how the data clusters in the principal components space. In this substep, you will apply k-means clustering to the dataset and use the average within-cluster distances from each point to their assigned cluster's centroid to decide on a number of clusters to keep.\n",
    "\n",
    "- Use sklearn's [KMeans](http://scikit-learn.org/stable/modules/generated/sklearn.cluster.KMeans.html#sklearn.cluster.KMeans) class to perform k-means clustering on the PCA-transformed data.\n",
    "- Then, compute the average difference from each point to its assigned cluster's center. **Hint**: The KMeans object's `.score()` method might be useful here, but note that in sklearn, scores tend to be defined so that larger is better. Try applying it to a small, toy dataset, or use an internet search to help your understanding.\n",
    "- Perform the above two steps for a number of different cluster counts. You can then see how the average distance decreases with an increasing number of clusters. However, each additional cluster provides a smaller net benefit. Use this fact to select a final number of clusters in which to group the data. **Warning**: because of the large size of the dataset, it can take a long time for the algorithm to resolve. The more clusters to fit, the longer the algorithm will take. You should test for cluster counts through at least 10 clusters to get the full picture, but you shouldn't need to test for a number of clusters above about 30.\n",
    "- Once you've selected a final number of clusters to use, re-fit a KMeans instance to perform the clustering operation. Make sure that you also obtain the cluster assignments for the general demographics data, since you'll be using them in the final Step 3.3."
   ]
  },
  {
   "cell_type": "code",
   "execution_count": 63,
   "metadata": {},
   "outputs": [
    {
     "name": "stdout",
     "output_type": "stream",
     "text": [
      "Running time is :  41.29\n"
     ]
    },
    {
     "data": {
      "image/png": "[encoded data removed]",
      "text/plain": [
       "<matplotlib.figure.Figure at 0x7f1d05b8fdd8>"
      ]
     },
     "metadata": {
      "needs_background": "light"
     },
     "output_type": "display_data"
    }
   ],
   "source": [
    "# Reference: original function provided in the changing_k session in course\n",
    "\n",
    "start_time = time.time()\n",
    "\n",
    "def get_kmeans_score(data, center):\n",
    "    '''\n",
    "    returns the kmeans score regarding SSE for points to centers\n",
    "    INPUT:\n",
    "        data - the dataset you want to fit kmeans to\n",
    "        center - the number of centers you want (the k value)\n",
    "    OUTPUT:\n",
    "        score - the SSE score for the kmeans model fit to the data\n",
    "    '''\n",
    "    #instantiate kmeans\n",
    "    kmeans = KMeans(n_clusters=center)\n",
    "\n",
    "    # Then fit the model to your data using the fit method\n",
    "    model = kmeans.fit(data)\n",
    "    \n",
    "    # Obtain a score related to the model fit\n",
    "    score = np.abs(model.score(data))\n",
    "    \n",
    "    return score\n",
    "\n",
    "scores = []\n",
    "centers = list(range(1,16))\n",
    "\n",
    "for center in centers:\n",
    "    scores.append(get_kmeans_score(azdias_clean_scaled, center))\n",
    "    \n",
    "plt.plot(centers, scores, linestyle='--', marker='o', color='b');\n",
    "plt.xlabel('K');\n",
    "plt.ylabel('SSE');\n",
    "plt.title('SSE vs. K')\n",
    "\n",
    "print('Running time is : ', np.round(((time.time() - start_time) / 60), 3))"
   ]
  },
  {
   "cell_type": "code",
   "execution_count": 87,
   "metadata": {},
   "outputs": [],
   "source": [
    "# Re-fit the k-means model with the selected number of clusters and obtain\n",
    "# cluster predictions for the general population demographics data.\n",
    "\n",
    "# selected a number of 12 in n_clusters to use\n",
    "\n",
    "kmeans = KMeans(n_clusters=12).fit(final_features)\n",
    "predict = kmeans.predict(final_features)"
   ]
  },
  {
   "cell_type": "markdown",
   "metadata": {},
   "source": [
    "### Discussion 3.1: Apply Clustering to General Population\n",
    "\n",
    "- In order to find the right number to segment the population, I used a plot to see the relationship between the number of clusters and score related to the model fit. From the graph, it seems that the number between 10 and 14 is the elbow. Thus, I decided to choose 12 as the clustering number."
   ]
  },
  {
   "cell_type": "markdown",
   "metadata": {},
   "source": [
    "### Step 3.2: Apply All Steps to the Customer Data\n",
    "\n",
    "Now that you have clusters and cluster centers for the general population, it's time to see how the customer data maps on to those clusters. Take care to not confuse this for re-fitting all of the models to the customer data. Instead, you're going to use the fits from the general population to clean, transform, and cluster the customer data. In the last step of the project, you will interpret how the general population fits apply to the customer data.\n",
    "\n",
    "- Don't forget when loading in the customers data, that it is semicolon (`;`) delimited.\n",
    "- Apply the same feature wrangling, selection, and engineering steps to the customer demographics using the `clean_data()` function you created earlier. (You can assume that the customer demographics data has similar meaning behind missing data patterns as the general demographics data.)\n",
    "- Use the sklearn objects from the general demographics data, and apply their transformations to the customers data. That is, you should not be using a `.fit()` or `.fit_transform()` method to re-fit the old objects, nor should you be creating new sklearn objects! Carry the data through the feature scaling, PCA, and clustering steps, obtaining cluster assignments for all of the data in the customer demographics data."
   ]
  },
  {
   "cell_type": "code",
   "execution_count": 122,
   "metadata": {},
   "outputs": [],
   "source": [
    "# Load in the customer demographics data.\n",
    "customers = pd.read_csv('Udacity_CUSTOMERS_Subset.csv', sep=';')"
   ]
  },
  {
   "cell_type": "code",
   "execution_count": 123,
   "metadata": {},
   "outputs": [
    {
     "data": {
      "text/html": [
       "<div>\n",
       "<style>\n",
       "    .dataframe thead tr:only-child th {\n",
       "        text-align: right;\n",
       "    }\n",
       "\n",
       "    .dataframe thead th {\n",
       "        text-align: left;\n",
       "    }\n",
       "\n",
       "    .dataframe tbody tr th {\n",
       "        vertical-align: top;\n",
       "    }\n",
       "</style>\n",
       "<table border=\"1\" class=\"dataframe\">\n",
       "  <thead>\n",
       "    <tr style=\"text-align: right;\">\n",
       "      <th></th>\n",
       "      <th>ALTERSKATEGORIE_GROB</th>\n",
       "      <th>ANREDE_KZ</th>\n",
       "      <th>CJT_GESAMTTYP</th>\n",
       "      <th>FINANZ_MINIMALIST</th>\n",
       "      <th>FINANZ_SPARER</th>\n",
       "      <th>FINANZ_VORSORGER</th>\n",
       "      <th>FINANZ_ANLEGER</th>\n",
       "      <th>FINANZ_UNAUFFAELLIGER</th>\n",
       "      <th>FINANZ_HAUSBAUER</th>\n",
       "      <th>FINANZTYP</th>\n",
       "      <th>...</th>\n",
       "      <th>PLZ8_GBZ</th>\n",
       "      <th>ARBEIT</th>\n",
       "      <th>ORTSGR_KLS9</th>\n",
       "      <th>RELAT_AB</th>\n",
       "      <th>PRAEGENDE_JUGENDJAHRE_DECADE</th>\n",
       "      <th>PRAEGENDE_JUGENDJAHRE_MOVEMENT</th>\n",
       "      <th>WEALTH</th>\n",
       "      <th>LIFE_STAGE</th>\n",
       "      <th>RURAL</th>\n",
       "      <th>NEIGHBORHOOD_QUALITY</th>\n",
       "    </tr>\n",
       "  </thead>\n",
       "  <tbody>\n",
       "    <tr>\n",
       "      <th>0</th>\n",
       "      <td>4</td>\n",
       "      <td>1</td>\n",
       "      <td>5.0</td>\n",
       "      <td>5</td>\n",
       "      <td>1</td>\n",
       "      <td>5</td>\n",
       "      <td>1</td>\n",
       "      <td>2</td>\n",
       "      <td>2</td>\n",
       "      <td>2</td>\n",
       "      <td>...</td>\n",
       "      <td>5.0</td>\n",
       "      <td>1.0</td>\n",
       "      <td>2.0</td>\n",
       "      <td>1.0</td>\n",
       "      <td>2.0</td>\n",
       "      <td>0.0</td>\n",
       "      <td>1.0</td>\n",
       "      <td>3.0</td>\n",
       "      <td>1.0</td>\n",
       "      <td>NaN</td>\n",
       "    </tr>\n",
       "    <tr>\n",
       "      <th>1</th>\n",
       "      <td>4</td>\n",
       "      <td>1</td>\n",
       "      <td>NaN</td>\n",
       "      <td>5</td>\n",
       "      <td>1</td>\n",
       "      <td>5</td>\n",
       "      <td>1</td>\n",
       "      <td>3</td>\n",
       "      <td>2</td>\n",
       "      <td>2</td>\n",
       "      <td>...</td>\n",
       "      <td>NaN</td>\n",
       "      <td>NaN</td>\n",
       "      <td>NaN</td>\n",
       "      <td>NaN</td>\n",
       "      <td>NaN</td>\n",
       "      <td>NaN</td>\n",
       "      <td>NaN</td>\n",
       "      <td>NaN</td>\n",
       "      <td>NaN</td>\n",
       "      <td>NaN</td>\n",
       "    </tr>\n",
       "    <tr>\n",
       "      <th>2</th>\n",
       "      <td>4</td>\n",
       "      <td>0</td>\n",
       "      <td>2.0</td>\n",
       "      <td>5</td>\n",
       "      <td>1</td>\n",
       "      <td>5</td>\n",
       "      <td>1</td>\n",
       "      <td>4</td>\n",
       "      <td>4</td>\n",
       "      <td>2</td>\n",
       "      <td>...</td>\n",
       "      <td>2.0</td>\n",
       "      <td>3.0</td>\n",
       "      <td>5.0</td>\n",
       "      <td>3.0</td>\n",
       "      <td>2.0</td>\n",
       "      <td>0.0</td>\n",
       "      <td>3.0</td>\n",
       "      <td>4.0</td>\n",
       "      <td>0.0</td>\n",
       "      <td>2.0</td>\n",
       "    </tr>\n",
       "    <tr>\n",
       "      <th>3</th>\n",
       "      <td>4</td>\n",
       "      <td>1</td>\n",
       "      <td>2.0</td>\n",
       "      <td>5</td>\n",
       "      <td>1</td>\n",
       "      <td>5</td>\n",
       "      <td>2</td>\n",
       "      <td>1</td>\n",
       "      <td>2</td>\n",
       "      <td>6</td>\n",
       "      <td>...</td>\n",
       "      <td>4.0</td>\n",
       "      <td>1.0</td>\n",
       "      <td>3.0</td>\n",
       "      <td>1.0</td>\n",
       "      <td>1.0</td>\n",
       "      <td>1.0</td>\n",
       "      <td>2.0</td>\n",
       "      <td>4.0</td>\n",
       "      <td>1.0</td>\n",
       "      <td>NaN</td>\n",
       "    </tr>\n",
       "    <tr>\n",
       "      <th>4</th>\n",
       "      <td>3</td>\n",
       "      <td>1</td>\n",
       "      <td>6.0</td>\n",
       "      <td>3</td>\n",
       "      <td>1</td>\n",
       "      <td>4</td>\n",
       "      <td>4</td>\n",
       "      <td>5</td>\n",
       "      <td>2</td>\n",
       "      <td>2</td>\n",
       "      <td>...</td>\n",
       "      <td>3.0</td>\n",
       "      <td>3.0</td>\n",
       "      <td>5.0</td>\n",
       "      <td>1.0</td>\n",
       "      <td>4.0</td>\n",
       "      <td>1.0</td>\n",
       "      <td>4.0</td>\n",
       "      <td>1.0</td>\n",
       "      <td>0.0</td>\n",
       "      <td>3.0</td>\n",
       "    </tr>\n",
       "  </tbody>\n",
       "</table>\n",
       "<p>5 rows × 79 columns</p>\n",
       "</div>"
      ],
      "text/plain": [
       "   ALTERSKATEGORIE_GROB  ANREDE_KZ  CJT_GESAMTTYP  FINANZ_MINIMALIST  \\\n",
       "0                     4          1            5.0                  5   \n",
       "1                     4          1            NaN                  5   \n",
       "2                     4          0            2.0                  5   \n",
       "3                     4          1            2.0                  5   \n",
       "4                     3          1            6.0                  3   \n",
       "\n",
       "   FINANZ_SPARER  FINANZ_VORSORGER  FINANZ_ANLEGER  FINANZ_UNAUFFAELLIGER  \\\n",
       "0              1                 5               1                      2   \n",
       "1              1                 5               1                      3   \n",
       "2              1                 5               1                      4   \n",
       "3              1                 5               2                      1   \n",
       "4              1                 4               4                      5   \n",
       "\n",
       "   FINANZ_HAUSBAUER  FINANZTYP          ...           PLZ8_GBZ  ARBEIT  \\\n",
       "0                 2          2          ...                5.0     1.0   \n",
       "1                 2          2          ...                NaN     NaN   \n",
       "2                 4          2          ...                2.0     3.0   \n",
       "3                 2          6          ...                4.0     1.0   \n",
       "4                 2          2          ...                3.0     3.0   \n",
       "\n",
       "   ORTSGR_KLS9  RELAT_AB  PRAEGENDE_JUGENDJAHRE_DECADE  \\\n",
       "0          2.0       1.0                           2.0   \n",
       "1          NaN       NaN                           NaN   \n",
       "2          5.0       3.0                           2.0   \n",
       "3          3.0       1.0                           1.0   \n",
       "4          5.0       1.0                           4.0   \n",
       "\n",
       "   PRAEGENDE_JUGENDJAHRE_MOVEMENT  WEALTH  LIFE_STAGE  RURAL  \\\n",
       "0                             0.0     1.0         3.0    1.0   \n",
       "1                             NaN     NaN         NaN    NaN   \n",
       "2                             0.0     3.0         4.0    0.0   \n",
       "3                             1.0     2.0         4.0    1.0   \n",
       "4                             1.0     4.0         1.0    0.0   \n",
       "\n",
       "   NEIGHBORHOOD_QUALITY  \n",
       "0                   NaN  \n",
       "1                   NaN  \n",
       "2                   2.0  \n",
       "3                   NaN  \n",
       "4                   3.0  \n",
       "\n",
       "[5 rows x 79 columns]"
      ]
     },
     "execution_count": 123,
     "metadata": {},
     "output_type": "execute_result"
    }
   ],
   "source": [
    "# Apply preprocessing, feature transformation, and clustering from the general\n",
    "# demographics onto the customer data, obtaining cluster predictions for the\n",
    "# customer demographics data.\n",
    "df_customers = clean_data(customers)\n",
    "df_customers.head()"
   ]
  },
  {
   "cell_type": "code",
   "execution_count": 124,
   "metadata": {},
   "outputs": [
    {
     "data": {
      "text/plain": [
       "0"
      ]
     },
     "execution_count": 124,
     "metadata": {},
     "output_type": "execute_result"
    }
   ],
   "source": [
    "# clean this dataset of all NaN values according to the same process in azdias_clean\n",
    "# drop the columns\n",
    "for v in drop_columns2:\n",
    "    df_customers.drop(v, axis = 1, inplace=True)   \n",
    "# impute with the mode \n",
    "imputer = Imputer(strategy='most_frequent')\n",
    "df_customers_clean = imputer.transform(df_customers)\n",
    "# convert back to dataframe\n",
    "df_customers_clean= pd.DataFrame(df_customers_clean)\n",
    "df_customers_clean.isnull().sum().sum()"
   ]
  },
  {
   "cell_type": "code",
   "execution_count": 125,
   "metadata": {},
   "outputs": [],
   "source": [
    "# Standardize\n",
    "df_customers_scaled = scaler.transform(df_customers_clean)\n",
    "df_customers_scaled = pd.DataFrame(df_customers_scaled)"
   ]
  },
  {
   "cell_type": "code",
   "execution_count": 126,
   "metadata": {},
   "outputs": [
    {
     "data": {
      "text/plain": [
       "(191652, 62)"
      ]
     },
     "execution_count": 126,
     "metadata": {},
     "output_type": "execute_result"
    }
   ],
   "source": [
    "df_customers_scaled.shape"
   ]
  },
  {
   "cell_type": "code",
   "execution_count": 127,
   "metadata": {},
   "outputs": [
    {
     "data": {
      "text/plain": [
       "(891221, 62)"
      ]
     },
     "execution_count": 127,
     "metadata": {},
     "output_type": "execute_result"
    }
   ],
   "source": [
    "azdias_clean_scaled.shape"
   ]
  },
  {
   "cell_type": "code",
   "execution_count": 128,
   "metadata": {},
   "outputs": [
    {
     "data": {
      "text/plain": [
       "(191652, 45)"
      ]
     },
     "execution_count": 128,
     "metadata": {},
     "output_type": "execute_result"
    }
   ],
   "source": [
    "# the df_customers_scaled shared the same number of columns with azdias one\n",
    "# PCA transformation\n",
    "customers_pca = pca.transform(df_customers_scaled)\n",
    "customers_pca.shape"
   ]
  },
  {
   "cell_type": "code",
   "execution_count": 129,
   "metadata": {},
   "outputs": [],
   "source": [
    "# Predict using Kmeans \n",
    "predict_customers = kmeans.predict(customers_pca)"
   ]
  },
  {
   "cell_type": "markdown",
   "metadata": {},
   "source": [
    "### Step 3.3: Compare Customer Data to Demographics Data\n",
    "\n",
    "At this point, you have clustered data based on demographics of the general population of Germany, and seen how the customer data for a mail-order sales company maps onto those demographic clusters. In this final substep, you will compare the two cluster distributions to see where the strongest customer base for the company is.\n",
    "\n",
    "Consider the proportion of persons in each cluster for the general population, and the proportions for the customers. If we think the company's customer base to be universal, then the cluster assignment proportions should be fairly similar between the two. If there are only particular segments of the population that are interested in the company's products, then we should see a mismatch from one to the other. If there is a higher proportion of persons in a cluster for the customer data compared to the general population (e.g. 5% of persons are assigned to a cluster for the general population, but 15% of the customer data is closest to that cluster's centroid) then that suggests the people in that cluster to be a target audience for the company. On the other hand, the proportion of the data in a cluster being larger in the general population than the customer data (e.g. only 2% of customers closest to a population centroid that captures 6% of the data) suggests that group of persons to be outside of the target demographics.\n",
    "\n",
    "Take a look at the following points in this step:\n",
    "\n",
    "- Compute the proportion of data points in each cluster for the general population and the customer data. Visualizations will be useful here: both for the individual dataset proportions, but also to visualize the ratios in cluster representation between groups. Seaborn's [`countplot()`](https://seaborn.pydata.org/generated/seaborn.countplot.html) or [`barplot()`](https://seaborn.pydata.org/generated/seaborn.barplot.html) function could be handy.\n",
    "  - Recall the analysis you performed in step 1.1.3 of the project, where you separated out certain data points from the dataset if they had more than a specified threshold of missing values. If you found that this group was qualitatively different from the main bulk of the data, you should treat this as an additional data cluster in this analysis. Make sure that you account for the number of data points in this subset, for both the general population and customer datasets, when making your computations!\n",
    "- Which cluster or clusters are overrepresented in the customer dataset compared to the general population? Select at least one such cluster and infer what kind of people might be represented by that cluster. Use the principal component interpretations from step 2.3 or look at additional components to help you make this inference. Alternatively, you can use the `.inverse_transform()` method of the PCA and StandardScaler objects to transform centroids back to the original data space and interpret the retrieved values directly.\n",
    "- Perform a similar investigation for the underrepresented clusters. Which cluster or clusters are underrepresented in the customer dataset compared to the general population, and what kinds of people are typified by these clusters?"
   ]
  },
  {
   "cell_type": "code",
   "execution_count": 130,
   "metadata": {},
   "outputs": [
    {
     "data": {
      "text/plain": [
       "Text(0.5,1,'General')"
      ]
     },
     "execution_count": 130,
     "metadata": {},
     "output_type": "execute_result"
    },
    {
     "data": {
      "image/png": "[encoded data removed]",
      "text/plain": [
       "<matplotlib.figure.Figure at 0x7f1eb89c3dd8>"
      ]
     },
     "metadata": {
      "needs_background": "light"
     },
     "output_type": "display_data"
    }
   ],
   "source": [
    "# Compare the proportion of data in each cluster for the customer data to the\n",
    "# proportion of data in each cluster for the general population.\n",
    "\n",
    "figure, axs = plt.subplots(nrows=1, ncols=2, figsize = (12,6))\n",
    "figure.subplots_adjust(hspace = 1, wspace=.2) # tune the subplot layout\n",
    "\n",
    "sns.countplot(predict_customers, ax=axs[0])\n",
    "axs[0].set_title('Customer')\n",
    "sns.countplot(predict, ax=axs[1])\n",
    "axs[1].set_title('General')"
   ]
  },
  {
   "cell_type": "code",
   "execution_count": null,
   "metadata": {},
   "outputs": [],
   "source": [
    "# What kinds of people are part of a cluster that is overrepresented in the\n",
    "# customer data compared to the general population?"
   ]
  },
  {
   "cell_type": "code",
   "execution_count": 131,
   "metadata": {},
   "outputs": [],
   "source": [
    "# create an inverse transform\n",
    "centroid_3 = scaler.inverse_transform(pca.inverse_transform(kmeans.cluster_centers_[3]))"
   ]
  },
  {
   "cell_type": "code",
   "execution_count": 132,
   "metadata": {},
   "outputs": [
    {
     "name": "stdout",
     "output_type": "stream",
     "text": [
      "GREEN_AVANTGARDE                  0.383651\n",
      "ORTSGR_KLS9                       0.241482\n",
      "EWDICHTE                          0.195608\n",
      "ONLINE_AFFINITAET                 0.162855\n",
      "SEMIO_DOM                         0.161126\n",
      "KBA05_ANTG1                       0.124829\n",
      "PLZ8_HHZ                          0.124099\n",
      "ANZ_PERSONEN                      0.120019\n",
      "SEMIO_KAEM                        0.113633\n",
      "SEMIO_RAT                         0.108566\n",
      "SEMIO_TRADV                       0.104804\n",
      "MOBI_REGIO                        0.102882\n",
      "LIFE_STAGE                        0.101341\n",
      "RELAT_AB                          0.095000\n",
      "PLZ8_ANTG2                        0.084712\n",
      "PLZ8_ANTG4                        0.082179\n",
      "FINANZ_UNAUFFAELLIGER             0.069506\n",
      "PLZ8_ANTG3                        0.067590\n",
      "KBA05_GBZ                         0.066623\n",
      "PRAEGENDE_JUGENDJAHRE_DECADE      0.050962\n",
      "KBA05_ANTG2                       0.045373\n",
      "ANZ_TITEL                         0.043648\n",
      "SEMIO_PFLICHT                     0.042947\n",
      "PLZ8_GBZ                          0.042113\n",
      "ARBEIT                            0.037960\n",
      "ANZ_HH_TITEL                      0.034606\n",
      "FINANZ_SPARER                     0.031135\n",
      "SEMIO_KRIT                        0.026702\n",
      "SEMIO_ERL                         0.011351\n",
      "FINANZ_MINIMALIST                 0.003356\n",
      "                                    ...   \n",
      "SEMIO_SOZ                        -0.013218\n",
      "WOHNDAUER_2008                   -0.014330\n",
      "SEMIO_REL                        -0.020804\n",
      "PLZ8_ANTG1                       -0.021219\n",
      "ANZ_HAUSHALTE_AKTIV              -0.023599\n",
      "KBA13_ANZAHL_PKW                 -0.024759\n",
      "SEMIO_LUST                       -0.030356\n",
      "KBA05_ANTG4                      -0.034329\n",
      "MIN_GEBAEUDEJAHR                 -0.039979\n",
      "RETOURTYP_BK_S                   -0.044791\n",
      "KBA05_ANTG3                      -0.046411\n",
      "SEMIO_KULT                       -0.046672\n",
      "SEMIO_VERT                       -0.050837\n",
      "FINANZ_VORSORGER                 -0.061069\n",
      "GEBAEUDETYP_RASTER               -0.070049\n",
      "SEMIO_FAM                        -0.072312\n",
      "FINANZ_HAUSBAUER                 -0.073240\n",
      "FINANZ_ANLEGER                   -0.076252\n",
      "OST_WEST_KZ                      -0.080153\n",
      "KONSUMNAEHE                      -0.090028\n",
      "WEALTH                           -0.133569\n",
      "W_KEIT_KIND_HH                   -0.141331\n",
      "NEIGHBORHOOD_QUALITY             -0.149634\n",
      "HH_EINKOMMEN_SCORE               -0.177022\n",
      "INNENSTADT                       -0.201958\n",
      "RURAL                            -0.204740\n",
      "BALLRAUM                         -0.226165\n",
      "REGIOTYP                         -0.227283\n",
      "KKK                              -0.267429\n",
      "PRAEGENDE_JUGENDJAHRE_MOVEMENT   -0.383651\n",
      "Name: 3, Length: 62, dtype: float64\n"
     ]
    }
   ],
   "source": [
    "centroid_3 = pd.DataFrame(pca.components_, columns=list(df_customers.columns)).iloc[3].sort_values(ascending=False)\n",
    "print(centroid_3)"
   ]
  },
  {
   "cell_type": "code",
   "execution_count": 133,
   "metadata": {},
   "outputs": [
    {
     "name": "stdout",
     "output_type": "stream",
     "text": [
      "FINANZ_VORSORGER                  0.256825\n",
      "SEMIO_ERL                         0.221783\n",
      "RETOURTYP_BK_S                    0.181775\n",
      "SEMIO_LUST                        0.180315\n",
      "PLZ8_ANTG4                        0.124669\n",
      "FINANZ_HAUSBAUER                  0.122768\n",
      "ORTSGR_KLS9                       0.117272\n",
      "W_KEIT_KIND_HH                    0.098108\n",
      "PLZ8_ANTG3                        0.097845\n",
      "KBA05_ANTG4                       0.090579\n",
      "ANZ_HAUSHALTE_AKTIV               0.082760\n",
      "FINANZ_MINIMALIST                 0.082615\n",
      "HH_EINKOMMEN_SCORE                0.080199\n",
      "EWDICHTE                          0.079510\n",
      "RELAT_AB                          0.079113\n",
      "PLZ8_ANTG2                        0.068976\n",
      "KBA05_ANTG3                       0.064757\n",
      "ARBEIT                            0.059275\n",
      "SEMIO_KAEM                        0.054652\n",
      "WOHNDAUER_2008                    0.051785\n",
      "SEMIO_KRIT                        0.048109\n",
      "OST_WEST_KZ                       0.042123\n",
      "ANZ_HH_TITEL                      0.040145\n",
      "PLZ8_HHZ                          0.032806\n",
      "LIFE_STAGE                        0.032029\n",
      "SEMIO_DOM                         0.022785\n",
      "KBA05_ANTG2                       0.020647\n",
      "WEALTH                            0.019262\n",
      "NEIGHBORHOOD_QUALITY              0.016455\n",
      "ANZ_TITEL                         0.011109\n",
      "                                    ...   \n",
      "PRAEGENDE_JUGENDJAHRE_MOVEMENT   -0.011004\n",
      "REGIOTYP                         -0.014429\n",
      "KKK                              -0.014791\n",
      "SEMIO_SOZ                        -0.043293\n",
      "ANZ_PERSONEN                     -0.046704\n",
      "MIN_GEBAEUDEJAHR                 -0.047304\n",
      "KBA05_ANTG1                      -0.047410\n",
      "MOBI_REGIO                       -0.047425\n",
      "KONSUMNAEHE                      -0.048298\n",
      "GEBAEUDETYP_RASTER               -0.060515\n",
      "RURAL                            -0.070829\n",
      "PLZ8_GBZ                         -0.074512\n",
      "KBA13_ANZAHL_PKW                 -0.078869\n",
      "HEALTH_TYP                       -0.084075\n",
      "KBA05_GBZ                        -0.093985\n",
      "BALLRAUM                         -0.095330\n",
      "PLZ8_ANTG1                       -0.098374\n",
      "INNENSTADT                       -0.099321\n",
      "ONLINE_AFFINITAET                -0.164066\n",
      "SEMIO_MAT                        -0.172162\n",
      "SEMIO_FAM                        -0.174405\n",
      "SEMIO_KULT                       -0.178486\n",
      "SEMIO_RAT                        -0.196342\n",
      "SEMIO_TRADV                      -0.229144\n",
      "SEMIO_PFLICHT                    -0.246278\n",
      "FINANZ_ANLEGER                   -0.248468\n",
      "FINANZ_UNAUFFAELLIGER            -0.255002\n",
      "SEMIO_REL                        -0.258297\n",
      "FINANZ_SPARER                    -0.265627\n",
      "PRAEGENDE_JUGENDJAHRE_DECADE     -0.271675\n",
      "Name: 1, Length: 62, dtype: float64\n"
     ]
    }
   ],
   "source": [
    "# What kinds of people are part of a cluster that is underrepresented in the\n",
    "# customer data compared to the general population?\n",
    "centroid_1 = scaler.inverse_transform(pca.inverse_transform(kmeans.cluster_centers_[1]))\n",
    "centroid_1 = pd.DataFrame(pca.components_, columns=list(df_customers.columns)).iloc[1].sort_values(ascending=False)\n",
    "print(centroid_1)"
   ]
  },
  {
   "cell_type": "code",
   "execution_count": 134,
   "metadata": {},
   "outputs": [
    {
     "name": "stdout",
     "output_type": "stream",
     "text": [
      "ANZ_PERSONEN                      0.269576\n",
      "WOHNDAUER_2008                    0.237728\n",
      "SEMIO_LUST                        0.216613\n",
      "FINANZ_ANLEGER                    0.203279\n",
      "FINANZ_SPARER                     0.165807\n",
      "BALLRAUM                          0.158633\n",
      "PRAEGENDE_JUGENDJAHRE_DECADE      0.140904\n",
      "WEALTH                            0.139205\n",
      "FINANZ_HAUSBAUER                  0.135966\n",
      "HEALTH_TYP                        0.127773\n",
      "INNENSTADT                        0.120925\n",
      "ANZ_HH_TITEL                      0.109424\n",
      "ANZ_TITEL                         0.103522\n",
      "MOBI_REGIO                        0.103004\n",
      "ONLINE_AFFINITAET                 0.096476\n",
      "KBA05_ANTG1                       0.092618\n",
      "SEMIO_SOZ                         0.080773\n",
      "FINANZ_UNAUFFAELLIGER             0.080373\n",
      "GREEN_AVANTGARDE                  0.069793\n",
      "KBA05_ANTG2                       0.068116\n",
      "OST_WEST_KZ                       0.067495\n",
      "RURAL                             0.063086\n",
      "PLZ8_ANTG4                        0.058444\n",
      "ANZ_HAUSHALTE_AKTIV               0.057515\n",
      "PLZ8_ANTG3                        0.039505\n",
      "ARBEIT                            0.039402\n",
      "KBA05_GBZ                         0.034065\n",
      "PLZ8_ANTG2                        0.031222\n",
      "KBA05_ANTG4                       0.028126\n",
      "PLZ8_HHZ                          0.027652\n",
      "                                    ...   \n",
      "NEIGHBORHOOD_QUALITY              0.016458\n",
      "KBA13_ANZAHL_PKW                  0.014672\n",
      "SEMIO_FAM                         0.011353\n",
      "HH_EINKOMMEN_SCORE                0.005647\n",
      "KKK                              -0.013314\n",
      "KBA05_ANTG3                      -0.016088\n",
      "PLZ8_GBZ                         -0.022945\n",
      "SEMIO_VERT                       -0.025503\n",
      "SEMIO_REL                        -0.033117\n",
      "EWDICHTE                         -0.047957\n",
      "SEMIO_KULT                       -0.048789\n",
      "PLZ8_ANTG1                       -0.050945\n",
      "SEMIO_DOM                        -0.057973\n",
      "REGIOTYP                         -0.067300\n",
      "PRAEGENDE_JUGENDJAHRE_MOVEMENT   -0.069793\n",
      "ORTSGR_KLS9                      -0.076563\n",
      "SEMIO_KAEM                       -0.080511\n",
      "GEBAEUDETYP_RASTER               -0.089801\n",
      "SEMIO_KRIT                       -0.096889\n",
      "FINANZ_VORSORGER                 -0.111038\n",
      "FINANZ_MINIMALIST                -0.114662\n",
      "SEMIO_PFLICHT                    -0.120718\n",
      "LIFE_STAGE                       -0.121053\n",
      "KONSUMNAEHE                      -0.123894\n",
      "W_KEIT_KIND_HH                   -0.125247\n",
      "RETOURTYP_BK_S                   -0.177885\n",
      "SEMIO_TRADV                      -0.258570\n",
      "SEMIO_MAT                        -0.259395\n",
      "SEMIO_RAT                        -0.262172\n",
      "MIN_GEBAEUDEJAHR                 -0.413547\n",
      "Name: 9, Length: 62, dtype: float64\n"
     ]
    }
   ],
   "source": [
    "centroid_9 = scaler.inverse_transform(pca.inverse_transform(kmeans.cluster_centers_[9]))\n",
    "centroid_9 = pd.DataFrame(pca.components_, columns=list(df_customers.columns)).iloc[9].sort_values(ascending=False)\n",
    "print(centroid_9)"
   ]
  },
  {
   "cell_type": "markdown",
   "metadata": {},
   "source": [
    "### Discussion 3.3: Compare Customer Data to Demographics Data\n",
    "\n",
    "#### Overrepresentative:\n",
    " \n",
    "##### Cluster 3: \n",
    "- I picked three highest features that had positive/negative relations and the values are beyond 0.20 to explain.\n",
    "- 'GREEN_AVANTGARDE': Membership in environmental sustainability as part of youth (0.38)\n",
    "- 'ORTSGR_KLS9': Size of community (0.24)\n",
    "- 'PRAEGENDE_JUGENDJAHRE_MOVEMENT': Dominating movement of person's youth (avantgarde vs. mainstream) (-0.38)\n",
    "\n",
    "It seems that the company targeted more on the people who were participated and interested in environmental issues during a person's youth and also with the avantgarde-type dominating movement of a person's youth. Besides, the popular cluster relates to the people who live in a large size of a community as well. Thus, they are relatively popular with the mail-order company but overrepresented in general.\n",
    "\n",
    "#### Underrepresentative: \n",
    "\n",
    "##### Cluster 1:\n",
    "- I picked four highest features that had positive/negative relations and the values are beyond 0.20 to explain.\n",
    "- 'FINANZ_VORSORGER': Financial typology (be prepared) (0.26)\n",
    "- 'SEMIO_ERL': Personality typology (event-oriented) (0.22)\n",
    "- 'PRAEGENDE_JUGENDJAHRE_DECADE': an interval-type variable for decade (-0.27)\n",
    "- 'FINANZ_SPARER': Financial typology (money-saver) (-0.26)\n",
    "\n",
    "It seems that the company targeted less on the people who are event-oriented personality and also prepared in the financial area. Accordingly, older people with money-saver habit are a negative impact here. That is useful to know because those type of young people is often open to the world and more interest in consumption, but it underrepresented here. \n",
    "\n",
    "##### Cluster  9: \n",
    "- I also picked the most impact features with positive/negative relations here.\n",
    "- 'ANZ_PERSONEN': Number of adults in a household (0.27)\n",
    "- 'WOHNDAUER_2008': Length of residence (0.24)\n",
    "- 'MIN_GEBAEUDEJAHR': first year building was mentioned in the database (lower number means longer existed building) (-0.41)\n",
    "\n",
    "It seems that people who live in a family with more adults for an extended period in the customer population are the target for underrepresentation. Among those features, the most substantial impact is the length of residence. It's a beneficial finding some under representative clusters since the mail-order company possibly ignore this type of potential customers. \n",
    "\n"
   ]
  },
  {
   "cell_type": "markdown",
   "metadata": {},
   "source": [
    "### Reference\n",
    "\n",
    "Udacity Unsupervised Learning Course and practices\n",
    "\n",
    "- https://classroom.udacity.com/nanodegrees/nd025/parts/31adfeff-4f9d-4a6e-9856-629feab109be\n",
    "\n",
    "PCA and Interpret Principal Components\n",
    "\n",
    "- https://scikit-learn.org/stable/modules/generated/sklearn.decomposition.PCA.html\n",
    "- https://towardsdatascience.com/pca-using-python-scikit-learn-e653f8989e60\n",
    "- https://stackoverflow.com/questions/47370795/pca-on-sklearn-how-to-interpret-pca-components\n",
    "- https://jakevdp.github.io/PythonDataScienceHandbook/05.09-principal-component-analysis.html\n"
   ]
  },
  {
   "cell_type": "markdown",
   "metadata": {},
   "source": [
    "> Congratulations on making it this far in the project! Before you finish, make sure to check through the entire notebook from top to bottom to make sure that your analysis follows a logical flow and all of your findings are documented in **Discussion** cells. Once you've checked over all of your work, you should export the notebook as an HTML document to submit for evaluation. You can do this from the menu, navigating to **File -> Download as -> HTML (.html)**. You will submit both that document and this notebook for your project submission."
   ]
  }
 ],
 "metadata": {
  "kernelspec": {
   "display_name": "Python 3",
   "language": "python",
   "name": "python3"
  },
  "language_info": {
   "codemirror_mode": {
    "name": "ipython",
    "version": 3
   },
   "file_extension": ".py",
   "mimetype": "text/x-python",
   "name": "python",
   "nbconvert_exporter": "python",
   "pygments_lexer": "ipython3",
   "version": "3.6.3"
  }
 },
 "nbformat": 4,
 "nbformat_minor": 2
}
